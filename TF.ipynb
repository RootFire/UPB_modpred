{
 "cells": [
  {
   "cell_type": "code",
   "execution_count": 5,
   "metadata": {},
   "outputs": [],
   "source": [
    "import pandas as pd"
   ]
  },
  {
   "cell_type": "code",
   "execution_count": 6,
   "metadata": {},
   "outputs": [],
   "source": [
    "# importar csv con delimitador pipe y codificacion ansi\n",
    "logdf_orig = pd.read_csv('LogisticData.txt',delimiter='|',encoding='ansi')"
   ]
  },
  {
   "cell_type": "code",
   "execution_count": 7,
   "metadata": {},
   "outputs": [
    {
     "data": {
      "text/plain": [
       "(801705, 40)"
      ]
     },
     "execution_count": 7,
     "metadata": {},
     "output_type": "execute_result"
    }
   ],
   "source": [
    "logdf_orig.shape    # --> el df inicialmente tiene 801705 lineas y 40 columnas"
   ]
  },
  {
   "cell_type": "code",
   "execution_count": 8,
   "metadata": {},
   "outputs": [
    {
     "data": {
      "text/html": [
       "<div>\n",
       "<style scoped>\n",
       "    .dataframe tbody tr th:only-of-type {\n",
       "        vertical-align: middle;\n",
       "    }\n",
       "\n",
       "    .dataframe tbody tr th {\n",
       "        vertical-align: top;\n",
       "    }\n",
       "\n",
       "    .dataframe thead th {\n",
       "        text-align: right;\n",
       "    }\n",
       "</style>\n",
       "<table border=\"1\" class=\"dataframe\">\n",
       "  <thead>\n",
       "    <tr style=\"text-align: right;\">\n",
       "      <th></th>\n",
       "      <th>GEST</th>\n",
       "      <th>NRO</th>\n",
       "      <th>LARGO</th>\n",
       "      <th>ANCHO</th>\n",
       "      <th>ALTO</th>\n",
       "      <th>IT</th>\n",
       "      <th>CMAS</th>\n",
       "      <th>CINN</th>\n",
       "      <th>CANTIDAD</th>\n",
       "      <th>BULTOS</th>\n",
       "      <th>CANMAS</th>\n",
       "      <th>CANUNI</th>\n",
       "      <th>NUMCAJ</th>\n",
       "      <th>CANORIG</th>\n",
       "    </tr>\n",
       "  </thead>\n",
       "  <tbody>\n",
       "    <tr>\n",
       "      <th>count</th>\n",
       "      <td>801705.000000</td>\n",
       "      <td>801705.000000</td>\n",
       "      <td>0.0</td>\n",
       "      <td>0.0</td>\n",
       "      <td>0.0</td>\n",
       "      <td>8.017050e+05</td>\n",
       "      <td>801705.000000</td>\n",
       "      <td>440228.000000</td>\n",
       "      <td>801705.000000</td>\n",
       "      <td>249950.000000</td>\n",
       "      <td>243589.000000</td>\n",
       "      <td>244678.000000</td>\n",
       "      <td>197380.000000</td>\n",
       "      <td>615335.000000</td>\n",
       "    </tr>\n",
       "    <tr>\n",
       "      <th>mean</th>\n",
       "      <td>2022.512303</td>\n",
       "      <td>5504.544041</td>\n",
       "      <td>NaN</td>\n",
       "      <td>NaN</td>\n",
       "      <td>NaN</td>\n",
       "      <td>1.380488e+06</td>\n",
       "      <td>29.350937</td>\n",
       "      <td>4.928544</td>\n",
       "      <td>16.100984</td>\n",
       "      <td>45.736539</td>\n",
       "      <td>0.328233</td>\n",
       "      <td>8.394862</td>\n",
       "      <td>50.468543</td>\n",
       "      <td>14.088614</td>\n",
       "    </tr>\n",
       "    <tr>\n",
       "      <th>std</th>\n",
       "      <td>0.499849</td>\n",
       "      <td>3309.458981</td>\n",
       "      <td>NaN</td>\n",
       "      <td>NaN</td>\n",
       "      <td>NaN</td>\n",
       "      <td>1.353566e+06</td>\n",
       "      <td>50.995959</td>\n",
       "      <td>6.903372</td>\n",
       "      <td>83.551120</td>\n",
       "      <td>505.610482</td>\n",
       "      <td>0.910521</td>\n",
       "      <td>20.141989</td>\n",
       "      <td>40.426863</td>\n",
       "      <td>45.886587</td>\n",
       "    </tr>\n",
       "    <tr>\n",
       "      <th>min</th>\n",
       "      <td>2022.000000</td>\n",
       "      <td>1.000000</td>\n",
       "      <td>NaN</td>\n",
       "      <td>NaN</td>\n",
       "      <td>NaN</td>\n",
       "      <td>1.000000e+04</td>\n",
       "      <td>0.000000</td>\n",
       "      <td>0.000000</td>\n",
       "      <td>0.000000</td>\n",
       "      <td>0.000000</td>\n",
       "      <td>0.000000</td>\n",
       "      <td>0.000000</td>\n",
       "      <td>1.000000</td>\n",
       "      <td>0.000000</td>\n",
       "    </tr>\n",
       "    <tr>\n",
       "      <th>25%</th>\n",
       "      <td>2022.000000</td>\n",
       "      <td>2665.000000</td>\n",
       "      <td>NaN</td>\n",
       "      <td>NaN</td>\n",
       "      <td>NaN</td>\n",
       "      <td>3.600000e+05</td>\n",
       "      <td>10.000000</td>\n",
       "      <td>1.000000</td>\n",
       "      <td>4.000000</td>\n",
       "      <td>6.000000</td>\n",
       "      <td>0.000000</td>\n",
       "      <td>2.000000</td>\n",
       "      <td>19.000000</td>\n",
       "      <td>4.000000</td>\n",
       "    </tr>\n",
       "    <tr>\n",
       "      <th>50%</th>\n",
       "      <td>2023.000000</td>\n",
       "      <td>5378.000000</td>\n",
       "      <td>NaN</td>\n",
       "      <td>NaN</td>\n",
       "      <td>NaN</td>\n",
       "      <td>9.800000e+05</td>\n",
       "      <td>12.000000</td>\n",
       "      <td>2.000000</td>\n",
       "      <td>8.000000</td>\n",
       "      <td>11.000000</td>\n",
       "      <td>0.000000</td>\n",
       "      <td>6.000000</td>\n",
       "      <td>43.000000</td>\n",
       "      <td>8.000000</td>\n",
       "    </tr>\n",
       "    <tr>\n",
       "      <th>75%</th>\n",
       "      <td>2023.000000</td>\n",
       "      <td>8433.000000</td>\n",
       "      <td>NaN</td>\n",
       "      <td>NaN</td>\n",
       "      <td>NaN</td>\n",
       "      <td>2.000000e+06</td>\n",
       "      <td>24.000000</td>\n",
       "      <td>6.000000</td>\n",
       "      <td>15.000000</td>\n",
       "      <td>20.000000</td>\n",
       "      <td>0.000000</td>\n",
       "      <td>12.000000</td>\n",
       "      <td>73.000000</td>\n",
       "      <td>12.000000</td>\n",
       "    </tr>\n",
       "    <tr>\n",
       "      <th>max</th>\n",
       "      <td>2023.000000</td>\n",
       "      <td>11471.000000</td>\n",
       "      <td>NaN</td>\n",
       "      <td>NaN</td>\n",
       "      <td>NaN</td>\n",
       "      <td>1.333000e+07</td>\n",
       "      <td>800.000000</td>\n",
       "      <td>100.000000</td>\n",
       "      <td>48000.000000</td>\n",
       "      <td>23540.000000</td>\n",
       "      <td>100.000000</td>\n",
       "      <td>2000.000000</td>\n",
       "      <td>346.000000</td>\n",
       "      <td>5000.000000</td>\n",
       "    </tr>\n",
       "  </tbody>\n",
       "</table>\n",
       "</div>"
      ],
      "text/plain": [
       "                GEST            NRO  LARGO  ANCHO  ALTO            IT  \\\n",
       "count  801705.000000  801705.000000    0.0    0.0   0.0  8.017050e+05   \n",
       "mean     2022.512303    5504.544041    NaN    NaN   NaN  1.380488e+06   \n",
       "std         0.499849    3309.458981    NaN    NaN   NaN  1.353566e+06   \n",
       "min      2022.000000       1.000000    NaN    NaN   NaN  1.000000e+04   \n",
       "25%      2022.000000    2665.000000    NaN    NaN   NaN  3.600000e+05   \n",
       "50%      2023.000000    5378.000000    NaN    NaN   NaN  9.800000e+05   \n",
       "75%      2023.000000    8433.000000    NaN    NaN   NaN  2.000000e+06   \n",
       "max      2023.000000   11471.000000    NaN    NaN   NaN  1.333000e+07   \n",
       "\n",
       "                CMAS           CINN       CANTIDAD         BULTOS  \\\n",
       "count  801705.000000  440228.000000  801705.000000  249950.000000   \n",
       "mean       29.350937       4.928544      16.100984      45.736539   \n",
       "std        50.995959       6.903372      83.551120     505.610482   \n",
       "min         0.000000       0.000000       0.000000       0.000000   \n",
       "25%        10.000000       1.000000       4.000000       6.000000   \n",
       "50%        12.000000       2.000000       8.000000      11.000000   \n",
       "75%        24.000000       6.000000      15.000000      20.000000   \n",
       "max       800.000000     100.000000   48000.000000   23540.000000   \n",
       "\n",
       "              CANMAS         CANUNI         NUMCAJ        CANORIG  \n",
       "count  243589.000000  244678.000000  197380.000000  615335.000000  \n",
       "mean        0.328233       8.394862      50.468543      14.088614  \n",
       "std         0.910521      20.141989      40.426863      45.886587  \n",
       "min         0.000000       0.000000       1.000000       0.000000  \n",
       "25%         0.000000       2.000000      19.000000       4.000000  \n",
       "50%         0.000000       6.000000      43.000000       8.000000  \n",
       "75%         0.000000      12.000000      73.000000      12.000000  \n",
       "max       100.000000    2000.000000     346.000000    5000.000000  "
      ]
     },
     "execution_count": 8,
     "metadata": {},
     "output_type": "execute_result"
    }
   ],
   "source": [
    "# vemos lkas estadísticas de los datos numericos\n",
    "logdf_orig.describe()"
   ]
  },
  {
   "cell_type": "code",
   "execution_count": 9,
   "metadata": {},
   "outputs": [
    {
     "name": "stdout",
     "output_type": "stream",
     "text": [
      "<class 'pandas.core.frame.DataFrame'>\n",
      "RangeIndex: 801705 entries, 0 to 801704\n",
      "Data columns (total 40 columns):\n",
      " #   Column    Non-Null Count   Dtype  \n",
      "---  ------    --------------   -----  \n",
      " 0   REC       801705 non-null  object \n",
      " 1   INSA      801705 non-null  object \n",
      " 2   GEST      801705 non-null  int64  \n",
      " 3   NRO       801705 non-null  int64  \n",
      " 4   FECHAC    801705 non-null  object \n",
      " 5   ESTADO    801705 non-null  object \n",
      " 6   USUA      801705 non-null  object \n",
      " 7   FECHAI    796444 non-null  object \n",
      " 8   OBS       372851 non-null  object \n",
      " 9   OP        801705 non-null  object \n",
      " 10  DOCREF1   801491 non-null  object \n",
      " 11  SOLIC     375768 non-null  object \n",
      " 12  DOCREF2   250011 non-null  object \n",
      " 13  TIPSAL    801705 non-null  object \n",
      " 14  SITIO     801505 non-null  object \n",
      " 15  APP       615541 non-null  object \n",
      " 16  FECAPP    801270 non-null  object \n",
      " 17  LARGO     0 non-null       float64\n",
      " 18  ANCHO     0 non-null       float64\n",
      " 19  ALTO      0 non-null       float64\n",
      " 20  IT        801705 non-null  int64  \n",
      " 21  MUNDO     801705 non-null  object \n",
      " 22  SKU       801705 non-null  object \n",
      " 23  BARRA     801705 non-null  object \n",
      " 24  DESCR     801705 non-null  object \n",
      " 25  CMAS      801705 non-null  int64  \n",
      " 26  CINN      440228 non-null  float64\n",
      " 27  CANTIDAD  801705 non-null  int64  \n",
      " 28  ALMA      801705 non-null  object \n",
      " 29  UBIC      801705 non-null  object \n",
      " 30  BULTOS    249950 non-null  float64\n",
      " 31  OPER      790677 non-null  object \n",
      " 32  OBSOPE    179920 non-null  object \n",
      " 33  ESTOPE    609024 non-null  object \n",
      " 34  FECHAE    244681 non-null  object \n",
      " 35  ESTEMB    197378 non-null  object \n",
      " 36  CANMAS    243589 non-null  float64\n",
      " 37  CANUNI    244678 non-null  float64\n",
      " 38  NUMCAJ    197380 non-null  float64\n",
      " 39  CANORIG   615335 non-null  float64\n",
      "dtypes: float64(9), int64(5), object(26)\n",
      "memory usage: 244.7+ MB\n"
     ]
    }
   ],
   "source": [
    "# vemos las características de cada columna\n",
    "logdf_orig.info()"
   ]
  },
  {
   "cell_type": "markdown",
   "metadata": {},
   "source": [
    "## LIMPIEZA DE DATA"
   ]
  },
  {
   "cell_type": "code",
   "execution_count": 10,
   "metadata": {},
   "outputs": [
    {
     "name": "stdout",
     "output_type": "stream",
     "text": [
      "Columna  REC :  1\n",
      "Columna  INSA :  1\n",
      "Columna  GEST :  2\n",
      "Columna  NRO :  10043\n",
      "Columna  FECHAC :  554\n",
      "Columna  ESTADO :  3\n",
      "Columna  USUA :  2\n",
      "Columna  FECHAI :  584\n",
      "Columna  OBS :  214\n",
      "Columna  OP :  5\n",
      "Columna  DOCREF1 :  14578\n",
      "Columna  SOLIC :  70\n",
      "Columna  DOCREF2 :  1543\n",
      "Columna  TIPSAL :  3\n",
      "Columna  SITIO :  30\n",
      "Columna  APP :  2\n",
      "Columna  FECAPP :  560\n",
      "Columna  LARGO :  1\n",
      "Columna  ANCHO :  1\n",
      "Columna  ALTO :  1\n",
      "Columna  IT :  1331\n",
      "Columna  MUNDO :  44\n",
      "Columna  SKU :  15494\n",
      "Columna  BARRA :  16201\n",
      "Columna  DESCR :  15358\n",
      "Columna  CMAS :  95\n",
      "Columna  CINN :  35\n",
      "Columna  CANTIDAD :  573\n",
      "Columna  ALMA :  3\n",
      "Columna  UBIC :  2267\n",
      "Columna  BULTOS :  317\n",
      "Columna  OPER :  37\n",
      "Columna  OBSOPE :  507\n",
      "Columna  ESTOPE :  2\n",
      "Columna  FECHAE :  523\n",
      "Columna  ESTEMB :  2\n",
      "Columna  CANMAS :  37\n",
      "Columna  CANUNI :  164\n",
      "Columna  NUMCAJ :  347\n",
      "Columna  CANORIG :  450\n"
     ]
    }
   ],
   "source": [
    "# analizamos que columnas tiene datos únicos\n",
    "for elem in logdf_orig.columns:\n",
    "    print('Columna ', elem,': ', len(logdf_orig[elem].unique()))"
   ]
  },
  {
   "cell_type": "code",
   "execution_count": 11,
   "metadata": {},
   "outputs": [],
   "source": [
    "# Eliminamos columnas con dato único innecesario para análisis\n",
    "logdf = logdf_orig.drop(columns=['REC','INSA','LARGO','ANCHO','ALTO'])\n",
    "# eliminamos columnas de texto que no tienen data relevante para analisis\n",
    "logdf.drop(columns=['OBS','OBSOPE','SOLIC','DOCREF1','DOCREF2','NRO','IT'],axis=1, inplace=True)"
   ]
  },
  {
   "cell_type": "code",
   "execution_count": 12,
   "metadata": {},
   "outputs": [
    {
     "data": {
      "text/html": [
       "<div>\n",
       "<style scoped>\n",
       "    .dataframe tbody tr th:only-of-type {\n",
       "        vertical-align: middle;\n",
       "    }\n",
       "\n",
       "    .dataframe tbody tr th {\n",
       "        vertical-align: top;\n",
       "    }\n",
       "\n",
       "    .dataframe thead th {\n",
       "        text-align: right;\n",
       "    }\n",
       "</style>\n",
       "<table border=\"1\" class=\"dataframe\">\n",
       "  <thead>\n",
       "    <tr style=\"text-align: right;\">\n",
       "      <th></th>\n",
       "      <th>0</th>\n",
       "      <th>1</th>\n",
       "      <th>2</th>\n",
       "      <th>3</th>\n",
       "      <th>4</th>\n",
       "    </tr>\n",
       "  </thead>\n",
       "  <tbody>\n",
       "    <tr>\n",
       "      <th>GEST</th>\n",
       "      <td>2022</td>\n",
       "      <td>2022</td>\n",
       "      <td>2022</td>\n",
       "      <td>2022</td>\n",
       "      <td>2022</td>\n",
       "    </tr>\n",
       "    <tr>\n",
       "      <th>FECHAC</th>\n",
       "      <td>03/01/2022</td>\n",
       "      <td>03/01/2022</td>\n",
       "      <td>03/01/2022</td>\n",
       "      <td>03/01/2022</td>\n",
       "      <td>03/01/2022</td>\n",
       "    </tr>\n",
       "    <tr>\n",
       "      <th>ESTADO</th>\n",
       "      <td>APR</td>\n",
       "      <td>APR</td>\n",
       "      <td>APR</td>\n",
       "      <td>APR</td>\n",
       "      <td>APR</td>\n",
       "    </tr>\n",
       "    <tr>\n",
       "      <th>USUA</th>\n",
       "      <td>HOGARMARKET</td>\n",
       "      <td>HOGARMARKET</td>\n",
       "      <td>HOGARMARKET</td>\n",
       "      <td>HOGARMARKET</td>\n",
       "      <td>HOGARMARKET</td>\n",
       "    </tr>\n",
       "    <tr>\n",
       "      <th>FECHAI</th>\n",
       "      <td>05/01/2022</td>\n",
       "      <td>05/01/2022</td>\n",
       "      <td>05/01/2022</td>\n",
       "      <td>05/01/2022</td>\n",
       "      <td>05/01/2022</td>\n",
       "    </tr>\n",
       "    <tr>\n",
       "      <th>OP</th>\n",
       "      <td>EC</td>\n",
       "      <td>EC</td>\n",
       "      <td>EC</td>\n",
       "      <td>EC</td>\n",
       "      <td>EC</td>\n",
       "    </tr>\n",
       "    <tr>\n",
       "      <th>TIPSAL</th>\n",
       "      <td>BOD</td>\n",
       "      <td>BOD</td>\n",
       "      <td>BOD</td>\n",
       "      <td>BOD</td>\n",
       "      <td>BOD</td>\n",
       "    </tr>\n",
       "    <tr>\n",
       "      <th>SITIO</th>\n",
       "      <td>LP01</td>\n",
       "      <td>LP01</td>\n",
       "      <td>LP01</td>\n",
       "      <td>LP01</td>\n",
       "      <td>LP01</td>\n",
       "    </tr>\n",
       "    <tr>\n",
       "      <th>APP</th>\n",
       "      <td>USE</td>\n",
       "      <td>USE</td>\n",
       "      <td>USE</td>\n",
       "      <td>USE</td>\n",
       "      <td>USE</td>\n",
       "    </tr>\n",
       "    <tr>\n",
       "      <th>FECAPP</th>\n",
       "      <td>03/01/2022</td>\n",
       "      <td>03/01/2022</td>\n",
       "      <td>03/01/2022</td>\n",
       "      <td>03/01/2022</td>\n",
       "      <td>03/01/2022</td>\n",
       "    </tr>\n",
       "    <tr>\n",
       "      <th>MUNDO</th>\n",
       "      <td>CASABAÑO</td>\n",
       "      <td>CASABAÑO</td>\n",
       "      <td>CASABAÑO</td>\n",
       "      <td>CASABAÑO</td>\n",
       "      <td>CASABAÑO</td>\n",
       "    </tr>\n",
       "    <tr>\n",
       "      <th>SKU</th>\n",
       "      <td>3203836000528</td>\n",
       "      <td>3203836000542</td>\n",
       "      <td>3220679000171</td>\n",
       "      <td>3220679000188</td>\n",
       "      <td>3220679000195</td>\n",
       "    </tr>\n",
       "    <tr>\n",
       "      <th>BARRA</th>\n",
       "      <td>3203836000528</td>\n",
       "      <td>3203836000542</td>\n",
       "      <td>3220679000171</td>\n",
       "      <td>3220679000188</td>\n",
       "      <td>3220679000195</td>\n",
       "    </tr>\n",
       "    <tr>\n",
       "      <th>DESCR</th>\n",
       "      <td>TOALLA SABANA CONCEPTO SPA, Marron, 0006</td>\n",
       "      <td>TOALLA SABANA CONCEPTO S, Petroleo, 0006</td>\n",
       "      <td>ALFOMBRA DE BAÑO MF CONCEP, Blanco, 0001</td>\n",
       "      <td>ALFOMBRA DE BAÑO MF CONC, Palorosa, 0001</td>\n",
       "      <td>ALFOMBRA DE BAÑO MF CONCEP, Marron, 0001</td>\n",
       "    </tr>\n",
       "    <tr>\n",
       "      <th>CMAS</th>\n",
       "      <td>16</td>\n",
       "      <td>16</td>\n",
       "      <td>24</td>\n",
       "      <td>24</td>\n",
       "      <td>24</td>\n",
       "    </tr>\n",
       "    <tr>\n",
       "      <th>CINN</th>\n",
       "      <td>4.0</td>\n",
       "      <td>4.0</td>\n",
       "      <td>6.0</td>\n",
       "      <td>6.0</td>\n",
       "      <td>6.0</td>\n",
       "    </tr>\n",
       "    <tr>\n",
       "      <th>CANTIDAD</th>\n",
       "      <td>4</td>\n",
       "      <td>8</td>\n",
       "      <td>8</td>\n",
       "      <td>8</td>\n",
       "      <td>4</td>\n",
       "    </tr>\n",
       "    <tr>\n",
       "      <th>ALMA</th>\n",
       "      <td>CI</td>\n",
       "      <td>CI</td>\n",
       "      <td>CI</td>\n",
       "      <td>CI</td>\n",
       "      <td>CI</td>\n",
       "    </tr>\n",
       "    <tr>\n",
       "      <th>UBIC</th>\n",
       "      <td>FRB24</td>\n",
       "      <td>FRB20</td>\n",
       "      <td>ERA26</td>\n",
       "      <td>ERA25</td>\n",
       "      <td>FRA15</td>\n",
       "    </tr>\n",
       "    <tr>\n",
       "      <th>BULTOS</th>\n",
       "      <td>13.0</td>\n",
       "      <td>19.0</td>\n",
       "      <td>20.0</td>\n",
       "      <td>18.0</td>\n",
       "      <td>12.0</td>\n",
       "    </tr>\n",
       "    <tr>\n",
       "      <th>OPER</th>\n",
       "      <td>JTANCARA</td>\n",
       "      <td>JTANCARA</td>\n",
       "      <td>AVILLCA</td>\n",
       "      <td>AVILLCA</td>\n",
       "      <td>AVILLCA</td>\n",
       "    </tr>\n",
       "    <tr>\n",
       "      <th>ESTOPE</th>\n",
       "      <td>PIC</td>\n",
       "      <td>PIC</td>\n",
       "      <td>PIC</td>\n",
       "      <td>PIC</td>\n",
       "      <td>PIC</td>\n",
       "    </tr>\n",
       "    <tr>\n",
       "      <th>FECHAE</th>\n",
       "      <td>03/01/2022</td>\n",
       "      <td>03/01/2022</td>\n",
       "      <td>03/01/2022</td>\n",
       "      <td>03/01/2022</td>\n",
       "      <td>03/01/2022</td>\n",
       "    </tr>\n",
       "    <tr>\n",
       "      <th>ESTEMB</th>\n",
       "      <td>EMB</td>\n",
       "      <td>EMB</td>\n",
       "      <td>EMB</td>\n",
       "      <td>EMB</td>\n",
       "      <td>EMB</td>\n",
       "    </tr>\n",
       "    <tr>\n",
       "      <th>CANMAS</th>\n",
       "      <td>0.0</td>\n",
       "      <td>0.0</td>\n",
       "      <td>0.0</td>\n",
       "      <td>0.0</td>\n",
       "      <td>0.0</td>\n",
       "    </tr>\n",
       "    <tr>\n",
       "      <th>CANUNI</th>\n",
       "      <td>4.0</td>\n",
       "      <td>8.0</td>\n",
       "      <td>8.0</td>\n",
       "      <td>8.0</td>\n",
       "      <td>4.0</td>\n",
       "    </tr>\n",
       "    <tr>\n",
       "      <th>NUMCAJ</th>\n",
       "      <td>8.0</td>\n",
       "      <td>24.0</td>\n",
       "      <td>19.0</td>\n",
       "      <td>19.0</td>\n",
       "      <td>39.0</td>\n",
       "    </tr>\n",
       "    <tr>\n",
       "      <th>CANORIG</th>\n",
       "      <td>4.0</td>\n",
       "      <td>8.0</td>\n",
       "      <td>8.0</td>\n",
       "      <td>8.0</td>\n",
       "      <td>4.0</td>\n",
       "    </tr>\n",
       "  </tbody>\n",
       "</table>\n",
       "</div>"
      ],
      "text/plain": [
       "                                                 0  \\\n",
       "GEST                                          2022   \n",
       "FECHAC                                  03/01/2022   \n",
       "ESTADO                                         APR   \n",
       "USUA                                   HOGARMARKET   \n",
       "FECHAI                                  05/01/2022   \n",
       "OP                                              EC   \n",
       "TIPSAL                                         BOD   \n",
       "SITIO                                         LP01   \n",
       "APP                                            USE   \n",
       "FECAPP                                  03/01/2022   \n",
       "MUNDO                                     CASABAÑO   \n",
       "SKU                                  3203836000528   \n",
       "BARRA                                3203836000528   \n",
       "DESCR     TOALLA SABANA CONCEPTO SPA, Marron, 0006   \n",
       "CMAS                                            16   \n",
       "CINN                                           4.0   \n",
       "CANTIDAD                                         4   \n",
       "ALMA                                            CI   \n",
       "UBIC                                         FRB24   \n",
       "BULTOS                                        13.0   \n",
       "OPER                                      JTANCARA   \n",
       "ESTOPE                                         PIC   \n",
       "FECHAE                                  03/01/2022   \n",
       "ESTEMB                                         EMB   \n",
       "CANMAS                                         0.0   \n",
       "CANUNI                                         4.0   \n",
       "NUMCAJ                                         8.0   \n",
       "CANORIG                                        4.0   \n",
       "\n",
       "                                                 1  \\\n",
       "GEST                                          2022   \n",
       "FECHAC                                  03/01/2022   \n",
       "ESTADO                                         APR   \n",
       "USUA                                   HOGARMARKET   \n",
       "FECHAI                                  05/01/2022   \n",
       "OP                                              EC   \n",
       "TIPSAL                                         BOD   \n",
       "SITIO                                         LP01   \n",
       "APP                                            USE   \n",
       "FECAPP                                  03/01/2022   \n",
       "MUNDO                                     CASABAÑO   \n",
       "SKU                                  3203836000542   \n",
       "BARRA                                3203836000542   \n",
       "DESCR     TOALLA SABANA CONCEPTO S, Petroleo, 0006   \n",
       "CMAS                                            16   \n",
       "CINN                                           4.0   \n",
       "CANTIDAD                                         8   \n",
       "ALMA                                            CI   \n",
       "UBIC                                         FRB20   \n",
       "BULTOS                                        19.0   \n",
       "OPER                                      JTANCARA   \n",
       "ESTOPE                                         PIC   \n",
       "FECHAE                                  03/01/2022   \n",
       "ESTEMB                                         EMB   \n",
       "CANMAS                                         0.0   \n",
       "CANUNI                                         8.0   \n",
       "NUMCAJ                                        24.0   \n",
       "CANORIG                                        8.0   \n",
       "\n",
       "                                                 2  \\\n",
       "GEST                                          2022   \n",
       "FECHAC                                  03/01/2022   \n",
       "ESTADO                                         APR   \n",
       "USUA                                   HOGARMARKET   \n",
       "FECHAI                                  05/01/2022   \n",
       "OP                                              EC   \n",
       "TIPSAL                                         BOD   \n",
       "SITIO                                         LP01   \n",
       "APP                                            USE   \n",
       "FECAPP                                  03/01/2022   \n",
       "MUNDO                                     CASABAÑO   \n",
       "SKU                                  3220679000171   \n",
       "BARRA                                3220679000171   \n",
       "DESCR     ALFOMBRA DE BAÑO MF CONCEP, Blanco, 0001   \n",
       "CMAS                                            24   \n",
       "CINN                                           6.0   \n",
       "CANTIDAD                                         8   \n",
       "ALMA                                            CI   \n",
       "UBIC                                         ERA26   \n",
       "BULTOS                                        20.0   \n",
       "OPER                                       AVILLCA   \n",
       "ESTOPE                                         PIC   \n",
       "FECHAE                                  03/01/2022   \n",
       "ESTEMB                                         EMB   \n",
       "CANMAS                                         0.0   \n",
       "CANUNI                                         8.0   \n",
       "NUMCAJ                                        19.0   \n",
       "CANORIG                                        8.0   \n",
       "\n",
       "                                                 3  \\\n",
       "GEST                                          2022   \n",
       "FECHAC                                  03/01/2022   \n",
       "ESTADO                                         APR   \n",
       "USUA                                   HOGARMARKET   \n",
       "FECHAI                                  05/01/2022   \n",
       "OP                                              EC   \n",
       "TIPSAL                                         BOD   \n",
       "SITIO                                         LP01   \n",
       "APP                                            USE   \n",
       "FECAPP                                  03/01/2022   \n",
       "MUNDO                                     CASABAÑO   \n",
       "SKU                                  3220679000188   \n",
       "BARRA                                3220679000188   \n",
       "DESCR     ALFOMBRA DE BAÑO MF CONC, Palorosa, 0001   \n",
       "CMAS                                            24   \n",
       "CINN                                           6.0   \n",
       "CANTIDAD                                         8   \n",
       "ALMA                                            CI   \n",
       "UBIC                                         ERA25   \n",
       "BULTOS                                        18.0   \n",
       "OPER                                       AVILLCA   \n",
       "ESTOPE                                         PIC   \n",
       "FECHAE                                  03/01/2022   \n",
       "ESTEMB                                         EMB   \n",
       "CANMAS                                         0.0   \n",
       "CANUNI                                         8.0   \n",
       "NUMCAJ                                        19.0   \n",
       "CANORIG                                        8.0   \n",
       "\n",
       "                                                 4  \n",
       "GEST                                          2022  \n",
       "FECHAC                                  03/01/2022  \n",
       "ESTADO                                         APR  \n",
       "USUA                                   HOGARMARKET  \n",
       "FECHAI                                  05/01/2022  \n",
       "OP                                              EC  \n",
       "TIPSAL                                         BOD  \n",
       "SITIO                                         LP01  \n",
       "APP                                            USE  \n",
       "FECAPP                                  03/01/2022  \n",
       "MUNDO                                     CASABAÑO  \n",
       "SKU                                  3220679000195  \n",
       "BARRA                                3220679000195  \n",
       "DESCR     ALFOMBRA DE BAÑO MF CONCEP, Marron, 0001  \n",
       "CMAS                                            24  \n",
       "CINN                                           6.0  \n",
       "CANTIDAD                                         4  \n",
       "ALMA                                            CI  \n",
       "UBIC                                         FRA15  \n",
       "BULTOS                                        12.0  \n",
       "OPER                                       AVILLCA  \n",
       "ESTOPE                                         PIC  \n",
       "FECHAE                                  03/01/2022  \n",
       "ESTEMB                                         EMB  \n",
       "CANMAS                                         0.0  \n",
       "CANUNI                                         4.0  \n",
       "NUMCAJ                                        39.0  \n",
       "CANORIG                                        4.0  "
      ]
     },
     "execution_count": 12,
     "metadata": {},
     "output_type": "execute_result"
    }
   ],
   "source": [
    "logdf.head(5).T"
   ]
  },
  {
   "cell_type": "code",
   "execution_count": 13,
   "metadata": {},
   "outputs": [
    {
     "data": {
      "text/plain": [
       "array(['APR', 'ANU', 'PAP'], dtype=object)"
      ]
     },
     "execution_count": 13,
     "metadata": {},
     "output_type": "execute_result"
    }
   ],
   "source": [
    "logdf['ESTADO'].unique()  # --> filtramos por estado 'APR', los otros estados son intermedios o anulados"
   ]
  },
  {
   "cell_type": "code",
   "execution_count": 14,
   "metadata": {},
   "outputs": [
    {
     "data": {
      "text/plain": [
       "(801705, 28)"
      ]
     },
     "execution_count": 14,
     "metadata": {},
     "output_type": "execute_result"
    }
   ],
   "source": [
    "logdf.shape"
   ]
  },
  {
   "cell_type": "code",
   "execution_count": 15,
   "metadata": {},
   "outputs": [],
   "source": [
    "filtroAPR = logdf['ESTADO'] == 'APR'\n",
    "\n",
    "logdf = logdf[filtroAPR]"
   ]
  },
  {
   "cell_type": "code",
   "execution_count": 16,
   "metadata": {},
   "outputs": [],
   "source": [
    "# eliminamos columna ESTADO, no nos interesa columnas de fecha adicionales\n",
    "logdf.drop(['ESTADO','FECHAI','FECAPP','FECHAE'], axis=1, inplace=True)"
   ]
  },
  {
   "cell_type": "code",
   "execution_count": 17,
   "metadata": {},
   "outputs": [
    {
     "data": {
      "text/html": [
       "<div>\n",
       "<style scoped>\n",
       "    .dataframe tbody tr th:only-of-type {\n",
       "        vertical-align: middle;\n",
       "    }\n",
       "\n",
       "    .dataframe tbody tr th {\n",
       "        vertical-align: top;\n",
       "    }\n",
       "\n",
       "    .dataframe thead th {\n",
       "        text-align: right;\n",
       "    }\n",
       "</style>\n",
       "<table border=\"1\" class=\"dataframe\">\n",
       "  <thead>\n",
       "    <tr style=\"text-align: right;\">\n",
       "      <th></th>\n",
       "      <th>0</th>\n",
       "      <th>1</th>\n",
       "      <th>2</th>\n",
       "      <th>3</th>\n",
       "      <th>4</th>\n",
       "    </tr>\n",
       "  </thead>\n",
       "  <tbody>\n",
       "    <tr>\n",
       "      <th>GEST</th>\n",
       "      <td>2022</td>\n",
       "      <td>2022</td>\n",
       "      <td>2022</td>\n",
       "      <td>2022</td>\n",
       "      <td>2022</td>\n",
       "    </tr>\n",
       "    <tr>\n",
       "      <th>FECHAC</th>\n",
       "      <td>03/01/2022</td>\n",
       "      <td>03/01/2022</td>\n",
       "      <td>03/01/2022</td>\n",
       "      <td>03/01/2022</td>\n",
       "      <td>03/01/2022</td>\n",
       "    </tr>\n",
       "    <tr>\n",
       "      <th>USUA</th>\n",
       "      <td>HOGARMARKET</td>\n",
       "      <td>HOGARMARKET</td>\n",
       "      <td>HOGARMARKET</td>\n",
       "      <td>HOGARMARKET</td>\n",
       "      <td>HOGARMARKET</td>\n",
       "    </tr>\n",
       "    <tr>\n",
       "      <th>OP</th>\n",
       "      <td>EC</td>\n",
       "      <td>EC</td>\n",
       "      <td>EC</td>\n",
       "      <td>EC</td>\n",
       "      <td>EC</td>\n",
       "    </tr>\n",
       "    <tr>\n",
       "      <th>TIPSAL</th>\n",
       "      <td>BOD</td>\n",
       "      <td>BOD</td>\n",
       "      <td>BOD</td>\n",
       "      <td>BOD</td>\n",
       "      <td>BOD</td>\n",
       "    </tr>\n",
       "    <tr>\n",
       "      <th>SITIO</th>\n",
       "      <td>LP01</td>\n",
       "      <td>LP01</td>\n",
       "      <td>LP01</td>\n",
       "      <td>LP01</td>\n",
       "      <td>LP01</td>\n",
       "    </tr>\n",
       "    <tr>\n",
       "      <th>APP</th>\n",
       "      <td>USE</td>\n",
       "      <td>USE</td>\n",
       "      <td>USE</td>\n",
       "      <td>USE</td>\n",
       "      <td>USE</td>\n",
       "    </tr>\n",
       "    <tr>\n",
       "      <th>MUNDO</th>\n",
       "      <td>CASABAÑO</td>\n",
       "      <td>CASABAÑO</td>\n",
       "      <td>CASABAÑO</td>\n",
       "      <td>CASABAÑO</td>\n",
       "      <td>CASABAÑO</td>\n",
       "    </tr>\n",
       "    <tr>\n",
       "      <th>SKU</th>\n",
       "      <td>3203836000528</td>\n",
       "      <td>3203836000542</td>\n",
       "      <td>3220679000171</td>\n",
       "      <td>3220679000188</td>\n",
       "      <td>3220679000195</td>\n",
       "    </tr>\n",
       "    <tr>\n",
       "      <th>BARRA</th>\n",
       "      <td>3203836000528</td>\n",
       "      <td>3203836000542</td>\n",
       "      <td>3220679000171</td>\n",
       "      <td>3220679000188</td>\n",
       "      <td>3220679000195</td>\n",
       "    </tr>\n",
       "    <tr>\n",
       "      <th>DESCR</th>\n",
       "      <td>TOALLA SABANA CONCEPTO SPA, Marron, 0006</td>\n",
       "      <td>TOALLA SABANA CONCEPTO S, Petroleo, 0006</td>\n",
       "      <td>ALFOMBRA DE BAÑO MF CONCEP, Blanco, 0001</td>\n",
       "      <td>ALFOMBRA DE BAÑO MF CONC, Palorosa, 0001</td>\n",
       "      <td>ALFOMBRA DE BAÑO MF CONCEP, Marron, 0001</td>\n",
       "    </tr>\n",
       "    <tr>\n",
       "      <th>CMAS</th>\n",
       "      <td>16</td>\n",
       "      <td>16</td>\n",
       "      <td>24</td>\n",
       "      <td>24</td>\n",
       "      <td>24</td>\n",
       "    </tr>\n",
       "    <tr>\n",
       "      <th>CINN</th>\n",
       "      <td>4.0</td>\n",
       "      <td>4.0</td>\n",
       "      <td>6.0</td>\n",
       "      <td>6.0</td>\n",
       "      <td>6.0</td>\n",
       "    </tr>\n",
       "    <tr>\n",
       "      <th>CANTIDAD</th>\n",
       "      <td>4</td>\n",
       "      <td>8</td>\n",
       "      <td>8</td>\n",
       "      <td>8</td>\n",
       "      <td>4</td>\n",
       "    </tr>\n",
       "    <tr>\n",
       "      <th>ALMA</th>\n",
       "      <td>CI</td>\n",
       "      <td>CI</td>\n",
       "      <td>CI</td>\n",
       "      <td>CI</td>\n",
       "      <td>CI</td>\n",
       "    </tr>\n",
       "    <tr>\n",
       "      <th>UBIC</th>\n",
       "      <td>FRB24</td>\n",
       "      <td>FRB20</td>\n",
       "      <td>ERA26</td>\n",
       "      <td>ERA25</td>\n",
       "      <td>FRA15</td>\n",
       "    </tr>\n",
       "    <tr>\n",
       "      <th>BULTOS</th>\n",
       "      <td>13.0</td>\n",
       "      <td>19.0</td>\n",
       "      <td>20.0</td>\n",
       "      <td>18.0</td>\n",
       "      <td>12.0</td>\n",
       "    </tr>\n",
       "    <tr>\n",
       "      <th>OPER</th>\n",
       "      <td>JTANCARA</td>\n",
       "      <td>JTANCARA</td>\n",
       "      <td>AVILLCA</td>\n",
       "      <td>AVILLCA</td>\n",
       "      <td>AVILLCA</td>\n",
       "    </tr>\n",
       "    <tr>\n",
       "      <th>ESTOPE</th>\n",
       "      <td>PIC</td>\n",
       "      <td>PIC</td>\n",
       "      <td>PIC</td>\n",
       "      <td>PIC</td>\n",
       "      <td>PIC</td>\n",
       "    </tr>\n",
       "    <tr>\n",
       "      <th>ESTEMB</th>\n",
       "      <td>EMB</td>\n",
       "      <td>EMB</td>\n",
       "      <td>EMB</td>\n",
       "      <td>EMB</td>\n",
       "      <td>EMB</td>\n",
       "    </tr>\n",
       "    <tr>\n",
       "      <th>CANMAS</th>\n",
       "      <td>0.0</td>\n",
       "      <td>0.0</td>\n",
       "      <td>0.0</td>\n",
       "      <td>0.0</td>\n",
       "      <td>0.0</td>\n",
       "    </tr>\n",
       "    <tr>\n",
       "      <th>CANUNI</th>\n",
       "      <td>4.0</td>\n",
       "      <td>8.0</td>\n",
       "      <td>8.0</td>\n",
       "      <td>8.0</td>\n",
       "      <td>4.0</td>\n",
       "    </tr>\n",
       "    <tr>\n",
       "      <th>NUMCAJ</th>\n",
       "      <td>8.0</td>\n",
       "      <td>24.0</td>\n",
       "      <td>19.0</td>\n",
       "      <td>19.0</td>\n",
       "      <td>39.0</td>\n",
       "    </tr>\n",
       "    <tr>\n",
       "      <th>CANORIG</th>\n",
       "      <td>4.0</td>\n",
       "      <td>8.0</td>\n",
       "      <td>8.0</td>\n",
       "      <td>8.0</td>\n",
       "      <td>4.0</td>\n",
       "    </tr>\n",
       "  </tbody>\n",
       "</table>\n",
       "</div>"
      ],
      "text/plain": [
       "                                                 0  \\\n",
       "GEST                                          2022   \n",
       "FECHAC                                  03/01/2022   \n",
       "USUA                                   HOGARMARKET   \n",
       "OP                                              EC   \n",
       "TIPSAL                                         BOD   \n",
       "SITIO                                         LP01   \n",
       "APP                                            USE   \n",
       "MUNDO                                     CASABAÑO   \n",
       "SKU                                  3203836000528   \n",
       "BARRA                                3203836000528   \n",
       "DESCR     TOALLA SABANA CONCEPTO SPA, Marron, 0006   \n",
       "CMAS                                            16   \n",
       "CINN                                           4.0   \n",
       "CANTIDAD                                         4   \n",
       "ALMA                                            CI   \n",
       "UBIC                                         FRB24   \n",
       "BULTOS                                        13.0   \n",
       "OPER                                      JTANCARA   \n",
       "ESTOPE                                         PIC   \n",
       "ESTEMB                                         EMB   \n",
       "CANMAS                                         0.0   \n",
       "CANUNI                                         4.0   \n",
       "NUMCAJ                                         8.0   \n",
       "CANORIG                                        4.0   \n",
       "\n",
       "                                                 1  \\\n",
       "GEST                                          2022   \n",
       "FECHAC                                  03/01/2022   \n",
       "USUA                                   HOGARMARKET   \n",
       "OP                                              EC   \n",
       "TIPSAL                                         BOD   \n",
       "SITIO                                         LP01   \n",
       "APP                                            USE   \n",
       "MUNDO                                     CASABAÑO   \n",
       "SKU                                  3203836000542   \n",
       "BARRA                                3203836000542   \n",
       "DESCR     TOALLA SABANA CONCEPTO S, Petroleo, 0006   \n",
       "CMAS                                            16   \n",
       "CINN                                           4.0   \n",
       "CANTIDAD                                         8   \n",
       "ALMA                                            CI   \n",
       "UBIC                                         FRB20   \n",
       "BULTOS                                        19.0   \n",
       "OPER                                      JTANCARA   \n",
       "ESTOPE                                         PIC   \n",
       "ESTEMB                                         EMB   \n",
       "CANMAS                                         0.0   \n",
       "CANUNI                                         8.0   \n",
       "NUMCAJ                                        24.0   \n",
       "CANORIG                                        8.0   \n",
       "\n",
       "                                                 2  \\\n",
       "GEST                                          2022   \n",
       "FECHAC                                  03/01/2022   \n",
       "USUA                                   HOGARMARKET   \n",
       "OP                                              EC   \n",
       "TIPSAL                                         BOD   \n",
       "SITIO                                         LP01   \n",
       "APP                                            USE   \n",
       "MUNDO                                     CASABAÑO   \n",
       "SKU                                  3220679000171   \n",
       "BARRA                                3220679000171   \n",
       "DESCR     ALFOMBRA DE BAÑO MF CONCEP, Blanco, 0001   \n",
       "CMAS                                            24   \n",
       "CINN                                           6.0   \n",
       "CANTIDAD                                         8   \n",
       "ALMA                                            CI   \n",
       "UBIC                                         ERA26   \n",
       "BULTOS                                        20.0   \n",
       "OPER                                       AVILLCA   \n",
       "ESTOPE                                         PIC   \n",
       "ESTEMB                                         EMB   \n",
       "CANMAS                                         0.0   \n",
       "CANUNI                                         8.0   \n",
       "NUMCAJ                                        19.0   \n",
       "CANORIG                                        8.0   \n",
       "\n",
       "                                                 3  \\\n",
       "GEST                                          2022   \n",
       "FECHAC                                  03/01/2022   \n",
       "USUA                                   HOGARMARKET   \n",
       "OP                                              EC   \n",
       "TIPSAL                                         BOD   \n",
       "SITIO                                         LP01   \n",
       "APP                                            USE   \n",
       "MUNDO                                     CASABAÑO   \n",
       "SKU                                  3220679000188   \n",
       "BARRA                                3220679000188   \n",
       "DESCR     ALFOMBRA DE BAÑO MF CONC, Palorosa, 0001   \n",
       "CMAS                                            24   \n",
       "CINN                                           6.0   \n",
       "CANTIDAD                                         8   \n",
       "ALMA                                            CI   \n",
       "UBIC                                         ERA25   \n",
       "BULTOS                                        18.0   \n",
       "OPER                                       AVILLCA   \n",
       "ESTOPE                                         PIC   \n",
       "ESTEMB                                         EMB   \n",
       "CANMAS                                         0.0   \n",
       "CANUNI                                         8.0   \n",
       "NUMCAJ                                        19.0   \n",
       "CANORIG                                        8.0   \n",
       "\n",
       "                                                 4  \n",
       "GEST                                          2022  \n",
       "FECHAC                                  03/01/2022  \n",
       "USUA                                   HOGARMARKET  \n",
       "OP                                              EC  \n",
       "TIPSAL                                         BOD  \n",
       "SITIO                                         LP01  \n",
       "APP                                            USE  \n",
       "MUNDO                                     CASABAÑO  \n",
       "SKU                                  3220679000195  \n",
       "BARRA                                3220679000195  \n",
       "DESCR     ALFOMBRA DE BAÑO MF CONCEP, Marron, 0001  \n",
       "CMAS                                            24  \n",
       "CINN                                           6.0  \n",
       "CANTIDAD                                         4  \n",
       "ALMA                                            CI  \n",
       "UBIC                                         FRA15  \n",
       "BULTOS                                        12.0  \n",
       "OPER                                       AVILLCA  \n",
       "ESTOPE                                         PIC  \n",
       "ESTEMB                                         EMB  \n",
       "CANMAS                                         0.0  \n",
       "CANUNI                                         4.0  \n",
       "NUMCAJ                                        39.0  \n",
       "CANORIG                                        4.0  "
      ]
     },
     "execution_count": 17,
     "metadata": {},
     "output_type": "execute_result"
    }
   ],
   "source": [
    "logdf.head(5).T"
   ]
  },
  {
   "cell_type": "code",
   "execution_count": 18,
   "metadata": {},
   "outputs": [
    {
     "data": {
      "text/plain": [
       "array(['EC', 'RR', 'CJ', 'HP', 'FL'], dtype=object)"
      ]
     },
     "execution_count": 18,
     "metadata": {},
     "output_type": "execute_result"
    }
   ],
   "source": [
    "# analizamos las coolumnas de operadores, la primera 'OP' no es relevante, la segunda 'OPER' nos da una mejor idea\n",
    "logdf['OP'].unique() "
   ]
  },
  {
   "cell_type": "code",
   "execution_count": 19,
   "metadata": {},
   "outputs": [
    {
     "data": {
      "text/plain": [
       "array(['JTANCARA', 'AVILLCA', 'RRODRIGUEZ', nan, 'ACACHACA', 'CROJAS',\n",
       "       'GCONDORI', 'ROLANDOS', 'RLIMACHI', 'MTICONA', 'FLOPEZ', 'MMARCA',\n",
       "       'HPAYE', 'JCORIA', 'ELOY', 'JPEREYRA', 'VARUCUTIPA', 'MMONTERO',\n",
       "       'JVALENCIA', 'FVALENCIA', 'FARUCUTIPA', 'IVALENCIA', 'DCACHACA',\n",
       "       'ECORIA', 'KGONZALES', 'OVALERIANO', 'RCOLQUEHUANCA', 'JRAMOS',\n",
       "       'RRAMOS', 'JCALLE', 'MMIRANDA', 'CALDERON', 'ENZO', 'RCACHACA',\n",
       "       'PVASQUEZ'], dtype=object)"
      ]
     },
     "execution_count": 19,
     "metadata": {},
     "output_type": "execute_result"
    }
   ],
   "source": [
    "logdf['OPER'].unique() "
   ]
  },
  {
   "cell_type": "code",
   "execution_count": 20,
   "metadata": {},
   "outputs": [],
   "source": [
    "# eliminamos la columna 'OP'\n",
    "logdf.drop(['OP'], axis=1, inplace=True)"
   ]
  },
  {
   "cell_type": "code",
   "execution_count": 21,
   "metadata": {},
   "outputs": [
    {
     "data": {
      "text/plain": [
       "array(['BOD', 'SIT', 'SOB'], dtype=object)"
      ]
     },
     "execution_count": 21,
     "metadata": {},
     "output_type": "execute_result"
    }
   ],
   "source": [
    "# analizamos tipo de salida, el dato SOB nos interesa, son solo 49 registros, lo filtramos\n",
    "logdf['TIPSAL'].unique() "
   ]
  },
  {
   "cell_type": "code",
   "execution_count": 22,
   "metadata": {},
   "outputs": [
    {
     "data": {
      "text/plain": [
       "49"
      ]
     },
     "execution_count": 22,
     "metadata": {},
     "output_type": "execute_result"
    }
   ],
   "source": [
    "filtroSOB = logdf['TIPSAL'] == 'SOB'\n",
    "\n",
    "len(logdf[filtroSOB])"
   ]
  },
  {
   "cell_type": "code",
   "execution_count": 23,
   "metadata": {},
   "outputs": [
    {
     "data": {
      "text/plain": [
       "(796137, 23)"
      ]
     },
     "execution_count": 23,
     "metadata": {},
     "output_type": "execute_result"
    }
   ],
   "source": [
    "filtroSOB = logdf['TIPSAL'] != 'SOB'\n",
    "\n",
    "logdf = logdf[filtroSOB]\n",
    "\n",
    "logdf.shape"
   ]
  },
  {
   "cell_type": "code",
   "execution_count": 24,
   "metadata": {},
   "outputs": [
    {
     "data": {
      "text/plain": [
       "array(['USE', nan], dtype=object)"
      ]
     },
     "execution_count": 24,
     "metadata": {},
     "output_type": "execute_result"
    }
   ],
   "source": [
    "# eliminamos columna APP que solo indica si se uso la app movil\n",
    "logdf['APP'].unique() "
   ]
  },
  {
   "cell_type": "code",
   "execution_count": 25,
   "metadata": {},
   "outputs": [
    {
     "data": {
      "text/plain": [
       "(796137, 22)"
      ]
     },
     "execution_count": 25,
     "metadata": {},
     "output_type": "execute_result"
    }
   ],
   "source": [
    "logdf.drop(['APP'], axis=1, inplace=True)\n",
    "logdf.shape"
   ]
  },
  {
   "cell_type": "code",
   "execution_count": 26,
   "metadata": {},
   "outputs": [
    {
     "data": {
      "text/plain": [
       "(796137, 15)"
      ]
     },
     "execution_count": 26,
     "metadata": {},
     "output_type": "execute_result"
    }
   ],
   "source": [
    "# analizamos las cantidades, CMAS, CINN, CANMAS, CANUNI, BULTOS, NUMCAJ, CANORIG, son datos operativos referidos a las cantidades por caja y a lo efectivamente pickeado\n",
    "# unicamente nos interesa el dato CANTIDAD que es lo solicitado realmente por cada producto\n",
    "logdf.drop(['CMAS','CINN','CANMAS','CANUNI','BULTOS','NUMCAJ','CANORIG'], axis=1, inplace=True)\n",
    "logdf.shape"
   ]
  },
  {
   "cell_type": "code",
   "execution_count": 27,
   "metadata": {},
   "outputs": [
    {
     "data": {
      "text/html": [
       "<div>\n",
       "<style scoped>\n",
       "    .dataframe tbody tr th:only-of-type {\n",
       "        vertical-align: middle;\n",
       "    }\n",
       "\n",
       "    .dataframe tbody tr th {\n",
       "        vertical-align: top;\n",
       "    }\n",
       "\n",
       "    .dataframe thead th {\n",
       "        text-align: right;\n",
       "    }\n",
       "</style>\n",
       "<table border=\"1\" class=\"dataframe\">\n",
       "  <thead>\n",
       "    <tr style=\"text-align: right;\">\n",
       "      <th></th>\n",
       "      <th>0</th>\n",
       "      <th>1</th>\n",
       "      <th>2</th>\n",
       "      <th>3</th>\n",
       "      <th>4</th>\n",
       "    </tr>\n",
       "  </thead>\n",
       "  <tbody>\n",
       "    <tr>\n",
       "      <th>GEST</th>\n",
       "      <td>2022</td>\n",
       "      <td>2022</td>\n",
       "      <td>2022</td>\n",
       "      <td>2022</td>\n",
       "      <td>2022</td>\n",
       "    </tr>\n",
       "    <tr>\n",
       "      <th>FECHAC</th>\n",
       "      <td>03/01/2022</td>\n",
       "      <td>03/01/2022</td>\n",
       "      <td>03/01/2022</td>\n",
       "      <td>03/01/2022</td>\n",
       "      <td>03/01/2022</td>\n",
       "    </tr>\n",
       "    <tr>\n",
       "      <th>USUA</th>\n",
       "      <td>HOGARMARKET</td>\n",
       "      <td>HOGARMARKET</td>\n",
       "      <td>HOGARMARKET</td>\n",
       "      <td>HOGARMARKET</td>\n",
       "      <td>HOGARMARKET</td>\n",
       "    </tr>\n",
       "    <tr>\n",
       "      <th>TIPSAL</th>\n",
       "      <td>BOD</td>\n",
       "      <td>BOD</td>\n",
       "      <td>BOD</td>\n",
       "      <td>BOD</td>\n",
       "      <td>BOD</td>\n",
       "    </tr>\n",
       "    <tr>\n",
       "      <th>SITIO</th>\n",
       "      <td>LP01</td>\n",
       "      <td>LP01</td>\n",
       "      <td>LP01</td>\n",
       "      <td>LP01</td>\n",
       "      <td>LP01</td>\n",
       "    </tr>\n",
       "    <tr>\n",
       "      <th>MUNDO</th>\n",
       "      <td>CASABAÑO</td>\n",
       "      <td>CASABAÑO</td>\n",
       "      <td>CASABAÑO</td>\n",
       "      <td>CASABAÑO</td>\n",
       "      <td>CASABAÑO</td>\n",
       "    </tr>\n",
       "    <tr>\n",
       "      <th>SKU</th>\n",
       "      <td>3203836000528</td>\n",
       "      <td>3203836000542</td>\n",
       "      <td>3220679000171</td>\n",
       "      <td>3220679000188</td>\n",
       "      <td>3220679000195</td>\n",
       "    </tr>\n",
       "    <tr>\n",
       "      <th>BARRA</th>\n",
       "      <td>3203836000528</td>\n",
       "      <td>3203836000542</td>\n",
       "      <td>3220679000171</td>\n",
       "      <td>3220679000188</td>\n",
       "      <td>3220679000195</td>\n",
       "    </tr>\n",
       "    <tr>\n",
       "      <th>DESCR</th>\n",
       "      <td>TOALLA SABANA CONCEPTO SPA, Marron, 0006</td>\n",
       "      <td>TOALLA SABANA CONCEPTO S, Petroleo, 0006</td>\n",
       "      <td>ALFOMBRA DE BAÑO MF CONCEP, Blanco, 0001</td>\n",
       "      <td>ALFOMBRA DE BAÑO MF CONC, Palorosa, 0001</td>\n",
       "      <td>ALFOMBRA DE BAÑO MF CONCEP, Marron, 0001</td>\n",
       "    </tr>\n",
       "    <tr>\n",
       "      <th>CANTIDAD</th>\n",
       "      <td>4</td>\n",
       "      <td>8</td>\n",
       "      <td>8</td>\n",
       "      <td>8</td>\n",
       "      <td>4</td>\n",
       "    </tr>\n",
       "    <tr>\n",
       "      <th>ALMA</th>\n",
       "      <td>CI</td>\n",
       "      <td>CI</td>\n",
       "      <td>CI</td>\n",
       "      <td>CI</td>\n",
       "      <td>CI</td>\n",
       "    </tr>\n",
       "    <tr>\n",
       "      <th>UBIC</th>\n",
       "      <td>FRB24</td>\n",
       "      <td>FRB20</td>\n",
       "      <td>ERA26</td>\n",
       "      <td>ERA25</td>\n",
       "      <td>FRA15</td>\n",
       "    </tr>\n",
       "    <tr>\n",
       "      <th>OPER</th>\n",
       "      <td>JTANCARA</td>\n",
       "      <td>JTANCARA</td>\n",
       "      <td>AVILLCA</td>\n",
       "      <td>AVILLCA</td>\n",
       "      <td>AVILLCA</td>\n",
       "    </tr>\n",
       "    <tr>\n",
       "      <th>ESTOPE</th>\n",
       "      <td>PIC</td>\n",
       "      <td>PIC</td>\n",
       "      <td>PIC</td>\n",
       "      <td>PIC</td>\n",
       "      <td>PIC</td>\n",
       "    </tr>\n",
       "    <tr>\n",
       "      <th>ESTEMB</th>\n",
       "      <td>EMB</td>\n",
       "      <td>EMB</td>\n",
       "      <td>EMB</td>\n",
       "      <td>EMB</td>\n",
       "      <td>EMB</td>\n",
       "    </tr>\n",
       "  </tbody>\n",
       "</table>\n",
       "</div>"
      ],
      "text/plain": [
       "                                                 0  \\\n",
       "GEST                                          2022   \n",
       "FECHAC                                  03/01/2022   \n",
       "USUA                                   HOGARMARKET   \n",
       "TIPSAL                                         BOD   \n",
       "SITIO                                         LP01   \n",
       "MUNDO                                     CASABAÑO   \n",
       "SKU                                  3203836000528   \n",
       "BARRA                                3203836000528   \n",
       "DESCR     TOALLA SABANA CONCEPTO SPA, Marron, 0006   \n",
       "CANTIDAD                                         4   \n",
       "ALMA                                            CI   \n",
       "UBIC                                         FRB24   \n",
       "OPER                                      JTANCARA   \n",
       "ESTOPE                                         PIC   \n",
       "ESTEMB                                         EMB   \n",
       "\n",
       "                                                 1  \\\n",
       "GEST                                          2022   \n",
       "FECHAC                                  03/01/2022   \n",
       "USUA                                   HOGARMARKET   \n",
       "TIPSAL                                         BOD   \n",
       "SITIO                                         LP01   \n",
       "MUNDO                                     CASABAÑO   \n",
       "SKU                                  3203836000542   \n",
       "BARRA                                3203836000542   \n",
       "DESCR     TOALLA SABANA CONCEPTO S, Petroleo, 0006   \n",
       "CANTIDAD                                         8   \n",
       "ALMA                                            CI   \n",
       "UBIC                                         FRB20   \n",
       "OPER                                      JTANCARA   \n",
       "ESTOPE                                         PIC   \n",
       "ESTEMB                                         EMB   \n",
       "\n",
       "                                                 2  \\\n",
       "GEST                                          2022   \n",
       "FECHAC                                  03/01/2022   \n",
       "USUA                                   HOGARMARKET   \n",
       "TIPSAL                                         BOD   \n",
       "SITIO                                         LP01   \n",
       "MUNDO                                     CASABAÑO   \n",
       "SKU                                  3220679000171   \n",
       "BARRA                                3220679000171   \n",
       "DESCR     ALFOMBRA DE BAÑO MF CONCEP, Blanco, 0001   \n",
       "CANTIDAD                                         8   \n",
       "ALMA                                            CI   \n",
       "UBIC                                         ERA26   \n",
       "OPER                                       AVILLCA   \n",
       "ESTOPE                                         PIC   \n",
       "ESTEMB                                         EMB   \n",
       "\n",
       "                                                 3  \\\n",
       "GEST                                          2022   \n",
       "FECHAC                                  03/01/2022   \n",
       "USUA                                   HOGARMARKET   \n",
       "TIPSAL                                         BOD   \n",
       "SITIO                                         LP01   \n",
       "MUNDO                                     CASABAÑO   \n",
       "SKU                                  3220679000188   \n",
       "BARRA                                3220679000188   \n",
       "DESCR     ALFOMBRA DE BAÑO MF CONC, Palorosa, 0001   \n",
       "CANTIDAD                                         8   \n",
       "ALMA                                            CI   \n",
       "UBIC                                         ERA25   \n",
       "OPER                                       AVILLCA   \n",
       "ESTOPE                                         PIC   \n",
       "ESTEMB                                         EMB   \n",
       "\n",
       "                                                 4  \n",
       "GEST                                          2022  \n",
       "FECHAC                                  03/01/2022  \n",
       "USUA                                   HOGARMARKET  \n",
       "TIPSAL                                         BOD  \n",
       "SITIO                                         LP01  \n",
       "MUNDO                                     CASABAÑO  \n",
       "SKU                                  3220679000195  \n",
       "BARRA                                3220679000195  \n",
       "DESCR     ALFOMBRA DE BAÑO MF CONCEP, Marron, 0001  \n",
       "CANTIDAD                                         4  \n",
       "ALMA                                            CI  \n",
       "UBIC                                         FRA15  \n",
       "OPER                                       AVILLCA  \n",
       "ESTOPE                                         PIC  \n",
       "ESTEMB                                         EMB  "
      ]
     },
     "execution_count": 27,
     "metadata": {},
     "output_type": "execute_result"
    }
   ],
   "source": [
    "logdf.head(5).T"
   ]
  },
  {
   "cell_type": "code",
   "execution_count": 28,
   "metadata": {},
   "outputs": [
    {
     "data": {
      "text/plain": [
       "(796137, 14)"
      ]
     },
     "execution_count": 28,
     "metadata": {},
     "output_type": "execute_result"
    }
   ],
   "source": [
    "# tras nueva revisión observamos que TIPSAL no es necesario ya tenemos los sitios tiendas en SIT, eliminamos TIPSAL\n",
    "logdf.drop(['TIPSAL'], axis=1, inplace=True)\n",
    "logdf.shape"
   ]
  },
  {
   "cell_type": "code",
   "execution_count": 29,
   "metadata": {},
   "outputs": [
    {
     "data": {
      "text/plain": [
       "array(['CI', 'KE', 'PN'], dtype=object)"
      ]
     },
     "execution_count": 29,
     "metadata": {},
     "output_type": "execute_result"
    }
   ],
   "source": [
    "# analizamos ALMA y UBIC\n",
    "logdf['ALMA'].unique() \n"
   ]
  },
  {
   "cell_type": "code",
   "execution_count": 30,
   "metadata": {},
   "outputs": [
    {
     "data": {
      "text/plain": [
       "2266"
      ]
     },
     "execution_count": 30,
     "metadata": {},
     "output_type": "execute_result"
    }
   ],
   "source": [
    "len(logdf['UBIC'].unique())"
   ]
  },
  {
   "cell_type": "code",
   "execution_count": 31,
   "metadata": {},
   "outputs": [
    {
     "data": {
      "text/plain": [
       "(796137, 12)"
      ]
     },
     "execution_count": 31,
     "metadata": {},
     "output_type": "execute_result"
    }
   ],
   "source": [
    "# eliminamos alma y ubic que se refieren a las ubicaciones y almacenes de donde provienen los productos\n",
    "logdf.drop(['ALMA','UBIC'], axis=1, inplace=True)\n",
    "logdf.shape"
   ]
  },
  {
   "cell_type": "code",
   "execution_count": 32,
   "metadata": {},
   "outputs": [
    {
     "data": {
      "text/plain": [
       "array(['PIC', nan], dtype=object)"
      ]
     },
     "execution_count": 32,
     "metadata": {},
     "output_type": "execute_result"
    }
   ],
   "source": [
    "# analizamos ESTOPE y ESTEMB\n",
    "logdf['ESTOPE'].unique() "
   ]
  },
  {
   "cell_type": "code",
   "execution_count": 33,
   "metadata": {},
   "outputs": [
    {
     "data": {
      "text/plain": [
       "array(['EMB', nan], dtype=object)"
      ]
     },
     "execution_count": 33,
     "metadata": {},
     "output_type": "execute_result"
    }
   ],
   "source": [
    "logdf['ESTEMB'].unique() "
   ]
  },
  {
   "cell_type": "code",
   "execution_count": 34,
   "metadata": {},
   "outputs": [
    {
     "data": {
      "text/plain": [
       "(796137, 10)"
      ]
     },
     "execution_count": 34,
     "metadata": {},
     "output_type": "execute_result"
    }
   ],
   "source": [
    "# los eliminamos porque son resultado del trabajo de piqueo y patra nuestro análisis no tiene relevancia\n",
    "logdf.drop(['ESTOPE','ESTEMB'], axis=1, inplace=True)\n",
    "logdf.shape"
   ]
  },
  {
   "cell_type": "code",
   "execution_count": 35,
   "metadata": {},
   "outputs": [
    {
     "data": {
      "text/html": [
       "<div>\n",
       "<style scoped>\n",
       "    .dataframe tbody tr th:only-of-type {\n",
       "        vertical-align: middle;\n",
       "    }\n",
       "\n",
       "    .dataframe tbody tr th {\n",
       "        vertical-align: top;\n",
       "    }\n",
       "\n",
       "    .dataframe thead th {\n",
       "        text-align: right;\n",
       "    }\n",
       "</style>\n",
       "<table border=\"1\" class=\"dataframe\">\n",
       "  <thead>\n",
       "    <tr style=\"text-align: right;\">\n",
       "      <th></th>\n",
       "      <th>0</th>\n",
       "      <th>1</th>\n",
       "      <th>2</th>\n",
       "      <th>3</th>\n",
       "      <th>4</th>\n",
       "    </tr>\n",
       "  </thead>\n",
       "  <tbody>\n",
       "    <tr>\n",
       "      <th>GEST</th>\n",
       "      <td>2022</td>\n",
       "      <td>2022</td>\n",
       "      <td>2022</td>\n",
       "      <td>2022</td>\n",
       "      <td>2022</td>\n",
       "    </tr>\n",
       "    <tr>\n",
       "      <th>FECHAC</th>\n",
       "      <td>03/01/2022</td>\n",
       "      <td>03/01/2022</td>\n",
       "      <td>03/01/2022</td>\n",
       "      <td>03/01/2022</td>\n",
       "      <td>03/01/2022</td>\n",
       "    </tr>\n",
       "    <tr>\n",
       "      <th>USUA</th>\n",
       "      <td>HOGARMARKET</td>\n",
       "      <td>HOGARMARKET</td>\n",
       "      <td>HOGARMARKET</td>\n",
       "      <td>HOGARMARKET</td>\n",
       "      <td>HOGARMARKET</td>\n",
       "    </tr>\n",
       "    <tr>\n",
       "      <th>SITIO</th>\n",
       "      <td>LP01</td>\n",
       "      <td>LP01</td>\n",
       "      <td>LP01</td>\n",
       "      <td>LP01</td>\n",
       "      <td>LP01</td>\n",
       "    </tr>\n",
       "    <tr>\n",
       "      <th>MUNDO</th>\n",
       "      <td>CASABAÑO</td>\n",
       "      <td>CASABAÑO</td>\n",
       "      <td>CASABAÑO</td>\n",
       "      <td>CASABAÑO</td>\n",
       "      <td>CASABAÑO</td>\n",
       "    </tr>\n",
       "    <tr>\n",
       "      <th>SKU</th>\n",
       "      <td>3203836000528</td>\n",
       "      <td>3203836000542</td>\n",
       "      <td>3220679000171</td>\n",
       "      <td>3220679000188</td>\n",
       "      <td>3220679000195</td>\n",
       "    </tr>\n",
       "    <tr>\n",
       "      <th>BARRA</th>\n",
       "      <td>3203836000528</td>\n",
       "      <td>3203836000542</td>\n",
       "      <td>3220679000171</td>\n",
       "      <td>3220679000188</td>\n",
       "      <td>3220679000195</td>\n",
       "    </tr>\n",
       "    <tr>\n",
       "      <th>DESCR</th>\n",
       "      <td>TOALLA SABANA CONCEPTO SPA, Marron, 0006</td>\n",
       "      <td>TOALLA SABANA CONCEPTO S, Petroleo, 0006</td>\n",
       "      <td>ALFOMBRA DE BAÑO MF CONCEP, Blanco, 0001</td>\n",
       "      <td>ALFOMBRA DE BAÑO MF CONC, Palorosa, 0001</td>\n",
       "      <td>ALFOMBRA DE BAÑO MF CONCEP, Marron, 0001</td>\n",
       "    </tr>\n",
       "    <tr>\n",
       "      <th>CANTIDAD</th>\n",
       "      <td>4</td>\n",
       "      <td>8</td>\n",
       "      <td>8</td>\n",
       "      <td>8</td>\n",
       "      <td>4</td>\n",
       "    </tr>\n",
       "    <tr>\n",
       "      <th>OPER</th>\n",
       "      <td>JTANCARA</td>\n",
       "      <td>JTANCARA</td>\n",
       "      <td>AVILLCA</td>\n",
       "      <td>AVILLCA</td>\n",
       "      <td>AVILLCA</td>\n",
       "    </tr>\n",
       "  </tbody>\n",
       "</table>\n",
       "</div>"
      ],
      "text/plain": [
       "                                                 0  \\\n",
       "GEST                                          2022   \n",
       "FECHAC                                  03/01/2022   \n",
       "USUA                                   HOGARMARKET   \n",
       "SITIO                                         LP01   \n",
       "MUNDO                                     CASABAÑO   \n",
       "SKU                                  3203836000528   \n",
       "BARRA                                3203836000528   \n",
       "DESCR     TOALLA SABANA CONCEPTO SPA, Marron, 0006   \n",
       "CANTIDAD                                         4   \n",
       "OPER                                      JTANCARA   \n",
       "\n",
       "                                                 1  \\\n",
       "GEST                                          2022   \n",
       "FECHAC                                  03/01/2022   \n",
       "USUA                                   HOGARMARKET   \n",
       "SITIO                                         LP01   \n",
       "MUNDO                                     CASABAÑO   \n",
       "SKU                                  3203836000542   \n",
       "BARRA                                3203836000542   \n",
       "DESCR     TOALLA SABANA CONCEPTO S, Petroleo, 0006   \n",
       "CANTIDAD                                         8   \n",
       "OPER                                      JTANCARA   \n",
       "\n",
       "                                                 2  \\\n",
       "GEST                                          2022   \n",
       "FECHAC                                  03/01/2022   \n",
       "USUA                                   HOGARMARKET   \n",
       "SITIO                                         LP01   \n",
       "MUNDO                                     CASABAÑO   \n",
       "SKU                                  3220679000171   \n",
       "BARRA                                3220679000171   \n",
       "DESCR     ALFOMBRA DE BAÑO MF CONCEP, Blanco, 0001   \n",
       "CANTIDAD                                         8   \n",
       "OPER                                       AVILLCA   \n",
       "\n",
       "                                                 3  \\\n",
       "GEST                                          2022   \n",
       "FECHAC                                  03/01/2022   \n",
       "USUA                                   HOGARMARKET   \n",
       "SITIO                                         LP01   \n",
       "MUNDO                                     CASABAÑO   \n",
       "SKU                                  3220679000188   \n",
       "BARRA                                3220679000188   \n",
       "DESCR     ALFOMBRA DE BAÑO MF CONC, Palorosa, 0001   \n",
       "CANTIDAD                                         8   \n",
       "OPER                                       AVILLCA   \n",
       "\n",
       "                                                 4  \n",
       "GEST                                          2022  \n",
       "FECHAC                                  03/01/2022  \n",
       "USUA                                   HOGARMARKET  \n",
       "SITIO                                         LP01  \n",
       "MUNDO                                     CASABAÑO  \n",
       "SKU                                  3220679000195  \n",
       "BARRA                                3220679000195  \n",
       "DESCR     ALFOMBRA DE BAÑO MF CONCEP, Marron, 0001  \n",
       "CANTIDAD                                         4  \n",
       "OPER                                       AVILLCA  "
      ]
     },
     "execution_count": 35,
     "metadata": {},
     "output_type": "execute_result"
    }
   ],
   "source": [
    "logdf.head(5).T"
   ]
  },
  {
   "cell_type": "code",
   "execution_count": 36,
   "metadata": {},
   "outputs": [
    {
     "name": "stdout",
     "output_type": "stream",
     "text": [
      "Nro SKU:  15494\n",
      "Nro barcode:  16201\n"
     ]
    }
   ],
   "source": [
    "# analizamos SKU y cod_barra\n",
    "print('Nro SKU: ',len(logdf['SKU'].unique()))\n",
    "print(\"Nro barcode: \",len(logdf['BARRA'].unique()))"
   ]
  },
  {
   "cell_type": "code",
   "execution_count": 37,
   "metadata": {},
   "outputs": [
    {
     "data": {
      "text/plain": [
       "(796137, 9)"
      ]
     },
     "execution_count": 37,
     "metadata": {},
     "output_type": "execute_result"
    }
   ],
   "source": [
    "# eliminamos barcode, bajo la premisa que los SKU son únicos\n",
    "logdf.drop(['BARRA'], axis=1, inplace=True)\n",
    "logdf.shape"
   ]
  },
  {
   "cell_type": "code",
   "execution_count": 38,
   "metadata": {},
   "outputs": [
    {
     "name": "stdout",
     "output_type": "stream",
     "text": [
      "<class 'pandas.core.frame.DataFrame'>\n",
      "Index: 796137 entries, 0 to 801677\n",
      "Data columns (total 9 columns):\n",
      " #   Column    Non-Null Count   Dtype \n",
      "---  ------    --------------   ----- \n",
      " 0   GEST      796137 non-null  int64 \n",
      " 1   FECHAC    796137 non-null  object\n",
      " 2   USUA      796137 non-null  object\n",
      " 3   SITIO     795986 non-null  object\n",
      " 4   MUNDO     796137 non-null  object\n",
      " 5   SKU       796137 non-null  object\n",
      " 6   DESCR     796137 non-null  object\n",
      " 7   CANTIDAD  796137 non-null  int64 \n",
      " 8   OPER      785595 non-null  object\n",
      "dtypes: int64(2), object(7)\n",
      "memory usage: 60.7+ MB\n"
     ]
    }
   ],
   "source": [
    "# hacemos analisis de nulos:\n",
    "logdf.info()"
   ]
  },
  {
   "cell_type": "code",
   "execution_count": 39,
   "metadata": {},
   "outputs": [
    {
     "data": {
      "text/plain": [
       "(785589, 9)"
      ]
     },
     "execution_count": 39,
     "metadata": {},
     "output_type": "execute_result"
    }
   ],
   "source": [
    "# existen OPER nulos, por lo que los eliminamos\n",
    "logdf.dropna(inplace=True)\n",
    "logdf.shape"
   ]
  },
  {
   "cell_type": "code",
   "execution_count": 40,
   "metadata": {},
   "outputs": [
    {
     "data": {
      "text/html": [
       "<div>\n",
       "<style scoped>\n",
       "    .dataframe tbody tr th:only-of-type {\n",
       "        vertical-align: middle;\n",
       "    }\n",
       "\n",
       "    .dataframe tbody tr th {\n",
       "        vertical-align: top;\n",
       "    }\n",
       "\n",
       "    .dataframe thead th {\n",
       "        text-align: right;\n",
       "    }\n",
       "</style>\n",
       "<table border=\"1\" class=\"dataframe\">\n",
       "  <thead>\n",
       "    <tr style=\"text-align: right;\">\n",
       "      <th></th>\n",
       "      <th>SKU</th>\n",
       "      <th>DESCR</th>\n",
       "    </tr>\n",
       "  </thead>\n",
       "  <tbody>\n",
       "    <tr>\n",
       "      <th>0</th>\n",
       "      <td>3203836000528</td>\n",
       "      <td>TOALLA SABANA CONCEPTO SPA, Marron, 0006</td>\n",
       "    </tr>\n",
       "    <tr>\n",
       "      <th>1</th>\n",
       "      <td>3203836000542</td>\n",
       "      <td>TOALLA SABANA CONCEPTO S, Petroleo, 0006</td>\n",
       "    </tr>\n",
       "    <tr>\n",
       "      <th>2</th>\n",
       "      <td>3220679000171</td>\n",
       "      <td>ALFOMBRA DE BAÑO MF CONCEP, Blanco, 0001</td>\n",
       "    </tr>\n",
       "    <tr>\n",
       "      <th>3</th>\n",
       "      <td>3220679000188</td>\n",
       "      <td>ALFOMBRA DE BAÑO MF CONC, Palorosa, 0001</td>\n",
       "    </tr>\n",
       "    <tr>\n",
       "      <th>4</th>\n",
       "      <td>3220679000195</td>\n",
       "      <td>ALFOMBRA DE BAÑO MF CONCEP, Marron, 0001</td>\n",
       "    </tr>\n",
       "    <tr>\n",
       "      <th>...</th>\n",
       "      <td>...</td>\n",
       "      <td>...</td>\n",
       "    </tr>\n",
       "    <tr>\n",
       "      <th>801673</th>\n",
       "      <td>10020497</td>\n",
       "      <td>HILO DENTAL COLGATE TOTAL 25MT</td>\n",
       "    </tr>\n",
       "    <tr>\n",
       "      <th>801674</th>\n",
       "      <td>10018834</td>\n",
       "      <td>TOALLA HUM PANOLINI ALOE 20UN</td>\n",
       "    </tr>\n",
       "    <tr>\n",
       "      <th>801675</th>\n",
       "      <td>10020319</td>\n",
       "      <td>PASTA DENTAL COLGATE TRIPLE ACCION 90GR</td>\n",
       "    </tr>\n",
       "    <tr>\n",
       "      <th>801676</th>\n",
       "      <td>10020389</td>\n",
       "      <td>PASTA DENTAL COLGATE TRIPLE ACCION 180GR</td>\n",
       "    </tr>\n",
       "    <tr>\n",
       "      <th>801677</th>\n",
       "      <td>10020907</td>\n",
       "      <td>AFEITADORA BIC CONFORT3 PIEL SENSIB 1UN</td>\n",
       "    </tr>\n",
       "  </tbody>\n",
       "</table>\n",
       "<p>785589 rows × 2 columns</p>\n",
       "</div>"
      ],
      "text/plain": [
       "                  SKU                                     DESCR\n",
       "0       3203836000528  TOALLA SABANA CONCEPTO SPA, Marron, 0006\n",
       "1       3203836000542  TOALLA SABANA CONCEPTO S, Petroleo, 0006\n",
       "2       3220679000171  ALFOMBRA DE BAÑO MF CONCEP, Blanco, 0001\n",
       "3       3220679000188  ALFOMBRA DE BAÑO MF CONC, Palorosa, 0001\n",
       "4       3220679000195  ALFOMBRA DE BAÑO MF CONCEP, Marron, 0001\n",
       "...               ...                                       ...\n",
       "801673       10020497            HILO DENTAL COLGATE TOTAL 25MT\n",
       "801674       10018834             TOALLA HUM PANOLINI ALOE 20UN\n",
       "801675       10020319   PASTA DENTAL COLGATE TRIPLE ACCION 90GR\n",
       "801676       10020389  PASTA DENTAL COLGATE TRIPLE ACCION 180GR\n",
       "801677       10020907   AFEITADORA BIC CONFORT3 PIEL SENSIB 1UN\n",
       "\n",
       "[785589 rows x 2 columns]"
      ]
     },
     "execution_count": 40,
     "metadata": {},
     "output_type": "execute_result"
    }
   ],
   "source": [
    "# creamos un dataframe que contenga la relación única SKU/DESCR para posteriores cruces\n",
    "SKUdf = logdf.drop(['GEST','FECHAC','USUA','SITIO','MUNDO','CANTIDAD','OPER'],axis=1)\n",
    "SKUdf"
   ]
  },
  {
   "cell_type": "code",
   "execution_count": 41,
   "metadata": {},
   "outputs": [
    {
     "data": {
      "text/plain": [
       "15432"
      ]
     },
     "execution_count": 41,
     "metadata": {},
     "output_type": "execute_result"
    }
   ],
   "source": [
    "# elimina los duplicados del dataframne SKU dejando un único registro por SKU\n",
    "SKUdf.drop_duplicates(inplace=True,subset=['SKU'])\n",
    "len(SKUdf)"
   ]
  },
  {
   "cell_type": "code",
   "execution_count": 42,
   "metadata": {},
   "outputs": [
    {
     "data": {
      "text/plain": [
       "15432"
      ]
     },
     "execution_count": 42,
     "metadata": {},
     "output_type": "execute_result"
    }
   ],
   "source": [
    "len(SKUdf['SKU'].unique())"
   ]
  },
  {
   "cell_type": "code",
   "execution_count": 43,
   "metadata": {},
   "outputs": [
    {
     "data": {
      "text/plain": [
       "(785589, 8)"
      ]
     },
     "execution_count": 43,
     "metadata": {},
     "output_type": "execute_result"
    }
   ],
   "source": [
    "# haboiendo guardado en otro df las descripciones de los SKU eliminamos la columna DESCR\n",
    "logdf.drop(['DESCR'], axis=1, inplace=True)\n",
    "logdf.shape"
   ]
  },
  {
   "cell_type": "code",
   "execution_count": 44,
   "metadata": {},
   "outputs": [
    {
     "data": {
      "text/html": [
       "<div>\n",
       "<style scoped>\n",
       "    .dataframe tbody tr th:only-of-type {\n",
       "        vertical-align: middle;\n",
       "    }\n",
       "\n",
       "    .dataframe tbody tr th {\n",
       "        vertical-align: top;\n",
       "    }\n",
       "\n",
       "    .dataframe thead th {\n",
       "        text-align: right;\n",
       "    }\n",
       "</style>\n",
       "<table border=\"1\" class=\"dataframe\">\n",
       "  <thead>\n",
       "    <tr style=\"text-align: right;\">\n",
       "      <th></th>\n",
       "      <th>GEST</th>\n",
       "      <th>FECHAC</th>\n",
       "      <th>USUA</th>\n",
       "      <th>SITIO</th>\n",
       "      <th>MUNDO</th>\n",
       "      <th>SKU</th>\n",
       "      <th>CANTIDAD</th>\n",
       "      <th>OPER</th>\n",
       "    </tr>\n",
       "  </thead>\n",
       "  <tbody>\n",
       "    <tr>\n",
       "      <th>0</th>\n",
       "      <td>2022</td>\n",
       "      <td>03/01/2022</td>\n",
       "      <td>HOGARMARKET</td>\n",
       "      <td>LP01</td>\n",
       "      <td>CASABAÑO</td>\n",
       "      <td>3203836000528</td>\n",
       "      <td>4</td>\n",
       "      <td>JTANCARA</td>\n",
       "    </tr>\n",
       "    <tr>\n",
       "      <th>1</th>\n",
       "      <td>2022</td>\n",
       "      <td>03/01/2022</td>\n",
       "      <td>HOGARMARKET</td>\n",
       "      <td>LP01</td>\n",
       "      <td>CASABAÑO</td>\n",
       "      <td>3203836000542</td>\n",
       "      <td>8</td>\n",
       "      <td>JTANCARA</td>\n",
       "    </tr>\n",
       "    <tr>\n",
       "      <th>2</th>\n",
       "      <td>2022</td>\n",
       "      <td>03/01/2022</td>\n",
       "      <td>HOGARMARKET</td>\n",
       "      <td>LP01</td>\n",
       "      <td>CASABAÑO</td>\n",
       "      <td>3220679000171</td>\n",
       "      <td>8</td>\n",
       "      <td>AVILLCA</td>\n",
       "    </tr>\n",
       "    <tr>\n",
       "      <th>3</th>\n",
       "      <td>2022</td>\n",
       "      <td>03/01/2022</td>\n",
       "      <td>HOGARMARKET</td>\n",
       "      <td>LP01</td>\n",
       "      <td>CASABAÑO</td>\n",
       "      <td>3220679000188</td>\n",
       "      <td>8</td>\n",
       "      <td>AVILLCA</td>\n",
       "    </tr>\n",
       "    <tr>\n",
       "      <th>4</th>\n",
       "      <td>2022</td>\n",
       "      <td>03/01/2022</td>\n",
       "      <td>HOGARMARKET</td>\n",
       "      <td>LP01</td>\n",
       "      <td>CASABAÑO</td>\n",
       "      <td>3220679000195</td>\n",
       "      <td>4</td>\n",
       "      <td>AVILLCA</td>\n",
       "    </tr>\n",
       "  </tbody>\n",
       "</table>\n",
       "</div>"
      ],
      "text/plain": [
       "   GEST      FECHAC         USUA SITIO     MUNDO            SKU  CANTIDAD  \\\n",
       "0  2022  03/01/2022  HOGARMARKET  LP01  CASABAÑO  3203836000528         4   \n",
       "1  2022  03/01/2022  HOGARMARKET  LP01  CASABAÑO  3203836000542         8   \n",
       "2  2022  03/01/2022  HOGARMARKET  LP01  CASABAÑO  3220679000171         8   \n",
       "3  2022  03/01/2022  HOGARMARKET  LP01  CASABAÑO  3220679000188         8   \n",
       "4  2022  03/01/2022  HOGARMARKET  LP01  CASABAÑO  3220679000195         4   \n",
       "\n",
       "       OPER  \n",
       "0  JTANCARA  \n",
       "1  JTANCARA  \n",
       "2   AVILLCA  \n",
       "3   AVILLCA  \n",
       "4   AVILLCA  "
      ]
     },
     "execution_count": 44,
     "metadata": {},
     "output_type": "execute_result"
    }
   ],
   "source": [
    "logdf.head(5)"
   ]
  },
  {
   "cell_type": "code",
   "execution_count": 45,
   "metadata": {},
   "outputs": [
    {
     "name": "stdout",
     "output_type": "stream",
     "text": [
      "<class 'pandas.core.frame.DataFrame'>\n",
      "Index: 785589 entries, 0 to 801677\n",
      "Data columns (total 8 columns):\n",
      " #   Column    Non-Null Count   Dtype \n",
      "---  ------    --------------   ----- \n",
      " 0   GEST      785589 non-null  int64 \n",
      " 1   FECHAC    785589 non-null  object\n",
      " 2   USUA      785589 non-null  object\n",
      " 3   SITIO     785589 non-null  object\n",
      " 4   MUNDO     785589 non-null  object\n",
      " 5   SKU       785589 non-null  object\n",
      " 6   CANTIDAD  785589 non-null  int64 \n",
      " 7   OPER      785589 non-null  object\n",
      "dtypes: int64(2), object(6)\n",
      "memory usage: 53.9+ MB\n"
     ]
    }
   ],
   "source": [
    "logdf.info()"
   ]
  },
  {
   "cell_type": "code",
   "execution_count": 46,
   "metadata": {},
   "outputs": [],
   "source": [
    "# convertimos GEST en string\n",
    "logdf['GEST'] = logdf['GEST'].astype(str)"
   ]
  },
  {
   "cell_type": "code",
   "execution_count": 47,
   "metadata": {},
   "outputs": [
    {
     "name": "stdout",
     "output_type": "stream",
     "text": [
      "Columna  GEST :  2\n",
      "Columna  FECHAC :  538\n",
      "Columna  USUA :  2\n",
      "Columna  SITIO :  26\n",
      "Columna  MUNDO :  42\n",
      "Columna  SKU :  15432\n",
      "Columna  CANTIDAD :  526\n",
      "Columna  OPER :  34\n"
     ]
    }
   ],
   "source": [
    "# este es nuestro dataset definitivo con 785589 líneas y 8 atributos cada uno de ellos con valores necesarios para el análisis \n",
    "for elem in logdf.columns:\n",
    "    print('Columna ', elem,': ', len(logdf[elem].unique()))"
   ]
  },
  {
   "cell_type": "markdown",
   "metadata": {},
   "source": [
    "## PREPARACION DE LOS DATOS"
   ]
  },
  {
   "cell_type": "code",
   "execution_count": 48,
   "metadata": {},
   "outputs": [
    {
     "data": {
      "text/html": [
       "<div>\n",
       "<style scoped>\n",
       "    .dataframe tbody tr th:only-of-type {\n",
       "        vertical-align: middle;\n",
       "    }\n",
       "\n",
       "    .dataframe tbody tr th {\n",
       "        vertical-align: top;\n",
       "    }\n",
       "\n",
       "    .dataframe thead tr th {\n",
       "        text-align: left;\n",
       "    }\n",
       "\n",
       "    .dataframe thead tr:last-of-type th {\n",
       "        text-align: right;\n",
       "    }\n",
       "</style>\n",
       "<table border=\"1\" class=\"dataframe\">\n",
       "  <thead>\n",
       "    <tr>\n",
       "      <th></th>\n",
       "      <th colspan=\"2\" halign=\"left\">CANTIDAD</th>\n",
       "      <th>OPER</th>\n",
       "    </tr>\n",
       "    <tr>\n",
       "      <th></th>\n",
       "      <th>sum</th>\n",
       "      <th>count</th>\n",
       "      <th>nunique</th>\n",
       "    </tr>\n",
       "    <tr>\n",
       "      <th>FECHAC</th>\n",
       "      <th></th>\n",
       "      <th></th>\n",
       "      <th></th>\n",
       "    </tr>\n",
       "  </thead>\n",
       "  <tbody>\n",
       "    <tr>\n",
       "      <th>03/01/2022</th>\n",
       "      <td>21846</td>\n",
       "      <td>1657</td>\n",
       "      <td>11</td>\n",
       "    </tr>\n",
       "    <tr>\n",
       "      <th>04/01/2022</th>\n",
       "      <td>33897</td>\n",
       "      <td>1819</td>\n",
       "      <td>12</td>\n",
       "    </tr>\n",
       "    <tr>\n",
       "      <th>05/01/2022</th>\n",
       "      <td>36440</td>\n",
       "      <td>1540</td>\n",
       "      <td>11</td>\n",
       "    </tr>\n",
       "    <tr>\n",
       "      <th>06/01/2022</th>\n",
       "      <td>41940</td>\n",
       "      <td>1743</td>\n",
       "      <td>11</td>\n",
       "    </tr>\n",
       "    <tr>\n",
       "      <th>07/01/2022</th>\n",
       "      <td>3320</td>\n",
       "      <td>84</td>\n",
       "      <td>4</td>\n",
       "    </tr>\n",
       "    <tr>\n",
       "      <th>...</th>\n",
       "      <td>...</td>\n",
       "      <td>...</td>\n",
       "      <td>...</td>\n",
       "    </tr>\n",
       "    <tr>\n",
       "      <th>14/12/2023</th>\n",
       "      <td>25483</td>\n",
       "      <td>1467</td>\n",
       "      <td>14</td>\n",
       "    </tr>\n",
       "    <tr>\n",
       "      <th>15/12/2023</th>\n",
       "      <td>6341</td>\n",
       "      <td>472</td>\n",
       "      <td>8</td>\n",
       "    </tr>\n",
       "    <tr>\n",
       "      <th>16/12/2023</th>\n",
       "      <td>4053</td>\n",
       "      <td>132</td>\n",
       "      <td>5</td>\n",
       "    </tr>\n",
       "    <tr>\n",
       "      <th>18/12/2023</th>\n",
       "      <td>35965</td>\n",
       "      <td>2706</td>\n",
       "      <td>14</td>\n",
       "    </tr>\n",
       "    <tr>\n",
       "      <th>19/12/2023</th>\n",
       "      <td>9193</td>\n",
       "      <td>320</td>\n",
       "      <td>8</td>\n",
       "    </tr>\n",
       "  </tbody>\n",
       "</table>\n",
       "<p>538 rows × 3 columns</p>\n",
       "</div>"
      ],
      "text/plain": [
       "           CANTIDAD          OPER\n",
       "                sum count nunique\n",
       "FECHAC                           \n",
       "03/01/2022    21846  1657      11\n",
       "04/01/2022    33897  1819      12\n",
       "05/01/2022    36440  1540      11\n",
       "06/01/2022    41940  1743      11\n",
       "07/01/2022     3320    84       4\n",
       "...             ...   ...     ...\n",
       "14/12/2023    25483  1467      14\n",
       "15/12/2023     6341   472       8\n",
       "16/12/2023     4053   132       5\n",
       "18/12/2023    35965  2706      14\n",
       "19/12/2023     9193   320       8\n",
       "\n",
       "[538 rows x 3 columns]"
      ]
     },
     "execution_count": 48,
     "metadata": {},
     "output_type": "execute_result"
    }
   ],
   "source": [
    "# queremos analizar la cantidad de operarios que son necesarios por fecha enfuncion de las lineas y cantidades que atendieron\n",
    "# será necesario hacer dos agregaciones, lineas por día, operarios diferentes por día y canttidades por día\n",
    "\n",
    "\n",
    "# primero efctuamos la suma de cantidades y el conteo por fecha, adicionalmente contamos los operarios distintos en esa fecha\n",
    "logdf_aggr = logdf.groupby(by=['FECHAC'],sort=False).agg({'CANTIDAD' : ['sum','count'], 'OPER' : ['nunique']})\n",
    "logdf_aggr"
   ]
  },
  {
   "cell_type": "code",
   "execution_count": 49,
   "metadata": {},
   "outputs": [
    {
     "name": "stdout",
     "output_type": "stream",
     "text": [
      "<class 'pandas.core.frame.DataFrame'>\n",
      "Index: 538 entries, 03/01/2022 to 19/12/2023\n",
      "Data columns (total 3 columns):\n",
      " #   Column             Non-Null Count  Dtype\n",
      "---  ------             --------------  -----\n",
      " 0   (CANTIDAD, sum)    538 non-null    int64\n",
      " 1   (CANTIDAD, count)  538 non-null    int64\n",
      " 2   (OPER, nunique)    538 non-null    int64\n",
      "dtypes: int64(3)\n",
      "memory usage: 16.8+ KB\n"
     ]
    }
   ],
   "source": [
    "logdf_aggr.info()"
   ]
  },
  {
   "cell_type": "code",
   "execution_count": 50,
   "metadata": {},
   "outputs": [
    {
     "name": "stdout",
     "output_type": "stream",
     "text": [
      "<class 'pandas.core.frame.DataFrame'>\n",
      "Index: 538 entries, 03/01/2022 to 19/12/2023\n",
      "Data columns (total 3 columns):\n",
      " #   Column    Non-Null Count  Dtype\n",
      "---  ------    --------------  -----\n",
      " 0   CANTIDAD  538 non-null    int64\n",
      " 1   LINEAS    538 non-null    int64\n",
      " 2   NOPER     538 non-null    int64\n",
      "dtypes: int64(3)\n",
      "memory usage: 16.8+ KB\n"
     ]
    }
   ],
   "source": [
    "# renombramos atributos para una mejor interpretacion:\n",
    "logdf_aggr.columns = ['CANTIDAD','LINEAS','NOPER']\n",
    "logdf_aggr.info()"
   ]
  },
  {
   "cell_type": "markdown",
   "metadata": {},
   "source": [
    "## ANALISIS DE LOS DATOS"
   ]
  },
  {
   "cell_type": "code",
   "execution_count": 51,
   "metadata": {},
   "outputs": [],
   "source": [
    "# importamos las librerias gráficas\n",
    "from matplotlib.pyplot import subplots\n",
    "import seaborn as sns"
   ]
  },
  {
   "cell_type": "code",
   "execution_count": 52,
   "metadata": {},
   "outputs": [
    {
     "data": {
      "text/plain": [
       "<Axes: xlabel='NOPER', ylabel='CANTIDAD'>"
      ]
     },
     "execution_count": 52,
     "metadata": {},
     "output_type": "execute_result"
    },
    {
     "data": {
      "image/png": "[encoded data removed]",
      "text/plain": [
       "<Figure size 400x400 with 1 Axes>"
      ]
     },
     "metadata": {},
     "output_type": "display_data"
    }
   ],
   "source": [
    "# efectuamos la representacion grafica de los datos respecto a nuestra variable objetivo:\n",
    "fig, ax = subplots(figsize=(4,4))\n",
    "\n",
    "# para CANTIDAD\n",
    "logdf_aggr.plot(x='NOPER', y='CANTIDAD', kind='scatter', ax=ax)"
   ]
  },
  {
   "cell_type": "code",
   "execution_count": 53,
   "metadata": {},
   "outputs": [
    {
     "data": {
      "text/plain": [
       "<Axes: xlabel='NOPER', ylabel='LINEAS'>"
      ]
     },
     "execution_count": 53,
     "metadata": {},
     "output_type": "execute_result"
    },
    {
     "data": {
      "image/png": "[encoded data removed]",
      "text/plain": [
       "<Figure size 400x400 with 1 Axes>"
      ]
     },
     "metadata": {},
     "output_type": "display_data"
    }
   ],
   "source": [
    "# para LINEAS\n",
    "fig, ax = subplots(figsize=(4,4))\n",
    "logdf_aggr.plot(x='NOPER', y='LINEAS', kind='scatter', ax=ax)"
   ]
  },
  {
   "cell_type": "code",
   "execution_count": 54,
   "metadata": {},
   "outputs": [
    {
     "data": {
      "text/html": [
       "<div>\n",
       "<style scoped>\n",
       "    .dataframe tbody tr th:only-of-type {\n",
       "        vertical-align: middle;\n",
       "    }\n",
       "\n",
       "    .dataframe tbody tr th {\n",
       "        vertical-align: top;\n",
       "    }\n",
       "\n",
       "    .dataframe thead th {\n",
       "        text-align: right;\n",
       "    }\n",
       "</style>\n",
       "<table border=\"1\" class=\"dataframe\">\n",
       "  <thead>\n",
       "    <tr style=\"text-align: right;\">\n",
       "      <th></th>\n",
       "      <th>CANTIDAD</th>\n",
       "      <th>LINEAS</th>\n",
       "      <th>NOPER</th>\n",
       "    </tr>\n",
       "  </thead>\n",
       "  <tbody>\n",
       "    <tr>\n",
       "      <th>CANTIDAD</th>\n",
       "      <td>1.000000</td>\n",
       "      <td>0.741878</td>\n",
       "      <td>0.553824</td>\n",
       "    </tr>\n",
       "    <tr>\n",
       "      <th>LINEAS</th>\n",
       "      <td>0.741878</td>\n",
       "      <td>1.000000</td>\n",
       "      <td>0.744760</td>\n",
       "    </tr>\n",
       "    <tr>\n",
       "      <th>NOPER</th>\n",
       "      <td>0.553824</td>\n",
       "      <td>0.744760</td>\n",
       "      <td>1.000000</td>\n",
       "    </tr>\n",
       "  </tbody>\n",
       "</table>\n",
       "</div>"
      ],
      "text/plain": [
       "          CANTIDAD    LINEAS     NOPER\n",
       "CANTIDAD  1.000000  0.741878  0.553824\n",
       "LINEAS    0.741878  1.000000  0.744760\n",
       "NOPER     0.553824  0.744760  1.000000"
      ]
     },
     "execution_count": 54,
     "metadata": {},
     "output_type": "execute_result"
    }
   ],
   "source": [
    "# efectuamos el análisis de correlación:\n",
    "corr = logdf_aggr.corr()\n",
    "corr"
   ]
  },
  {
   "cell_type": "code",
   "execution_count": 55,
   "metadata": {},
   "outputs": [
    {
     "data": {
      "text/plain": [
       "<Axes: >"
      ]
     },
     "execution_count": 55,
     "metadata": {},
     "output_type": "execute_result"
    },
    {
     "data": {
      "image/png": "[encoded data removed]",
      "text/plain": [
       "<Figure size 640x480 with 2 Axes>"
      ]
     },
     "metadata": {},
     "output_type": "display_data"
    }
   ],
   "source": [
    "# graficamos la correlacion mediante heatmap\n",
    "sns.heatmap(corr)"
   ]
  },
  {
   "cell_type": "markdown",
   "metadata": {},
   "source": [
    "### Observamos para nuestra variable objetivo NOPER que existe correlacion positiva tanto para LINEAS (0.74) y CANTIDAD (0.55)\n",
    "### Entonces existe una relación lineal"
   ]
  },
  {
   "cell_type": "markdown",
   "metadata": {},
   "source": [
    "# REGRESIÓN LINEAL"
   ]
  },
  {
   "cell_type": "code",
   "execution_count": 56,
   "metadata": {},
   "outputs": [
    {
     "name": "stdout",
     "output_type": "stream",
     "text": [
      "Requirement already satisfied: statsmodels in c:\\users\\gusta\\appdata\\local\\packages\\pythonsoftwarefoundation.python.3.11_qbz5n2kfra8p0\\localcache\\local-packages\\python311\\site-packages (0.14.1)\n",
      "Requirement already satisfied: numpy<2,>=1.18 in c:\\users\\gusta\\appdata\\local\\packages\\pythonsoftwarefoundation.python.3.11_qbz5n2kfra8p0\\localcache\\local-packages\\python311\\site-packages (from statsmodels) (1.26.0)\n",
      "Requirement already satisfied: scipy!=1.9.2,>=1.4 in c:\\users\\gusta\\appdata\\local\\packages\\pythonsoftwarefoundation.python.3.11_qbz5n2kfra8p0\\localcache\\local-packages\\python311\\site-packages (from statsmodels) (1.11.4)\n",
      "Requirement already satisfied: pandas!=2.1.0,>=1.0 in c:\\users\\gusta\\appdata\\local\\packages\\pythonsoftwarefoundation.python.3.11_qbz5n2kfra8p0\\localcache\\local-packages\\python311\\site-packages (from statsmodels) (2.1.1)\n",
      "Requirement already satisfied: patsy>=0.5.4 in c:\\users\\gusta\\appdata\\local\\packages\\pythonsoftwarefoundation.python.3.11_qbz5n2kfra8p0\\localcache\\local-packages\\python311\\site-packages (from statsmodels) (0.5.4)\n",
      "Requirement already satisfied: packaging>=21.3 in c:\\users\\gusta\\appdata\\local\\packages\\pythonsoftwarefoundation.python.3.11_qbz5n2kfra8p0\\localcache\\local-packages\\python311\\site-packages (from statsmodels) (23.2)\n",
      "Requirement already satisfied: python-dateutil>=2.8.2 in c:\\users\\gusta\\appdata\\local\\packages\\pythonsoftwarefoundation.python.3.11_qbz5n2kfra8p0\\localcache\\local-packages\\python311\\site-packages (from pandas!=2.1.0,>=1.0->statsmodels) (2.8.2)\n",
      "Requirement already satisfied: pytz>=2020.1 in c:\\users\\gusta\\appdata\\local\\packages\\pythonsoftwarefoundation.python.3.11_qbz5n2kfra8p0\\localcache\\local-packages\\python311\\site-packages (from pandas!=2.1.0,>=1.0->statsmodels) (2023.3.post1)\n",
      "Requirement already satisfied: tzdata>=2022.1 in c:\\users\\gusta\\appdata\\local\\packages\\pythonsoftwarefoundation.python.3.11_qbz5n2kfra8p0\\localcache\\local-packages\\python311\\site-packages (from pandas!=2.1.0,>=1.0->statsmodels) (2023.3)\n",
      "Requirement already satisfied: six in c:\\users\\gusta\\appdata\\local\\packages\\pythonsoftwarefoundation.python.3.11_qbz5n2kfra8p0\\localcache\\local-packages\\python311\\site-packages (from patsy>=0.5.4->statsmodels) (1.16.0)\n"
     ]
    }
   ],
   "source": [
    "!pip install statsmodels"
   ]
  },
  {
   "cell_type": "code",
   "execution_count": 57,
   "metadata": {},
   "outputs": [
    {
     "name": "stdout",
     "output_type": "stream",
     "text": [
      "Requirement already satisfied: scikit-learn in c:\\users\\gusta\\appdata\\local\\packages\\pythonsoftwarefoundation.python.3.11_qbz5n2kfra8p0\\localcache\\local-packages\\python311\\site-packages (1.3.2)\n",
      "Requirement already satisfied: numpy<2.0,>=1.17.3 in c:\\users\\gusta\\appdata\\local\\packages\\pythonsoftwarefoundation.python.3.11_qbz5n2kfra8p0\\localcache\\local-packages\\python311\\site-packages (from scikit-learn) (1.26.0)\n",
      "Requirement already satisfied: scipy>=1.5.0 in c:\\users\\gusta\\appdata\\local\\packages\\pythonsoftwarefoundation.python.3.11_qbz5n2kfra8p0\\localcache\\local-packages\\python311\\site-packages (from scikit-learn) (1.11.4)\n",
      "Requirement already satisfied: joblib>=1.1.1 in c:\\users\\gusta\\appdata\\local\\packages\\pythonsoftwarefoundation.python.3.11_qbz5n2kfra8p0\\localcache\\local-packages\\python311\\site-packages (from scikit-learn) (1.3.2)\n",
      "Requirement already satisfied: threadpoolctl>=2.0.0 in c:\\users\\gusta\\appdata\\local\\packages\\pythonsoftwarefoundation.python.3.11_qbz5n2kfra8p0\\localcache\\local-packages\\python311\\site-packages (from scikit-learn) (3.2.0)\n"
     ]
    }
   ],
   "source": [
    "!pip install scikit-learn"
   ]
  },
  {
   "cell_type": "code",
   "execution_count": 58,
   "metadata": {},
   "outputs": [],
   "source": [
    "# importamos las librerias necesarias\n",
    "import statsmodels.api as sm\n",
    "from sklearn.model_selection import train_test_split"
   ]
  },
  {
   "cell_type": "code",
   "execution_count": 59,
   "metadata": {},
   "outputs": [],
   "source": [
    "# dividimos nuestras variables dependientes e independientes\n",
    "Y = logdf_aggr['NOPER']\n",
    "X = logdf_aggr[['CANTIDAD','LINEAS']]\n"
   ]
  },
  {
   "cell_type": "code",
   "execution_count": 60,
   "metadata": {},
   "outputs": [],
   "source": [
    "# efectuamos el split con 70% de entrenamiento\n",
    "x_train, x_test, y_train, y_test = train_test_split(X, Y, train_size=0.7)"
   ]
  },
  {
   "cell_type": "code",
   "execution_count": 61,
   "metadata": {},
   "outputs": [
    {
     "name": "stdout",
     "output_type": "stream",
     "text": [
      "X_train: 376\n",
      "X_test: 162\n",
      "Y_train: 376\n",
      "Y_test: 162\n"
     ]
    }
   ],
   "source": [
    "# veamos cuantos tiene cada uno:\n",
    "print(\"X_train:\", len(x_train))\n",
    "print(\"X_test:\", len(x_test))\n",
    "print(\"Y_train:\", len(y_train))\n",
    "print(\"Y_test:\", len(y_test))"
   ]
  },
  {
   "cell_type": "code",
   "execution_count": 62,
   "metadata": {},
   "outputs": [
    {
     "data": {
      "text/html": [
       "<div>\n",
       "<style scoped>\n",
       "    .dataframe tbody tr th:only-of-type {\n",
       "        vertical-align: middle;\n",
       "    }\n",
       "\n",
       "    .dataframe tbody tr th {\n",
       "        vertical-align: top;\n",
       "    }\n",
       "\n",
       "    .dataframe thead th {\n",
       "        text-align: right;\n",
       "    }\n",
       "</style>\n",
       "<table border=\"1\" class=\"dataframe\">\n",
       "  <thead>\n",
       "    <tr style=\"text-align: right;\">\n",
       "      <th></th>\n",
       "      <th>CANTIDAD</th>\n",
       "      <th>LINEAS</th>\n",
       "    </tr>\n",
       "    <tr>\n",
       "      <th>FECHAC</th>\n",
       "      <th></th>\n",
       "      <th></th>\n",
       "    </tr>\n",
       "  </thead>\n",
       "  <tbody>\n",
       "    <tr>\n",
       "      <th>23/02/2023</th>\n",
       "      <td>37931</td>\n",
       "      <td>3035</td>\n",
       "    </tr>\n",
       "    <tr>\n",
       "      <th>24/02/2022</th>\n",
       "      <td>18527</td>\n",
       "      <td>910</td>\n",
       "    </tr>\n",
       "    <tr>\n",
       "      <th>13/01/2022</th>\n",
       "      <td>17392</td>\n",
       "      <td>1260</td>\n",
       "    </tr>\n",
       "    <tr>\n",
       "      <th>06/12/2022</th>\n",
       "      <td>35724</td>\n",
       "      <td>2646</td>\n",
       "    </tr>\n",
       "    <tr>\n",
       "      <th>26/01/2022</th>\n",
       "      <td>18685</td>\n",
       "      <td>1323</td>\n",
       "    </tr>\n",
       "    <tr>\n",
       "      <th>...</th>\n",
       "      <td>...</td>\n",
       "      <td>...</td>\n",
       "    </tr>\n",
       "    <tr>\n",
       "      <th>30/10/2023</th>\n",
       "      <td>28219</td>\n",
       "      <td>2115</td>\n",
       "    </tr>\n",
       "    <tr>\n",
       "      <th>29/08/2023</th>\n",
       "      <td>25700</td>\n",
       "      <td>1563</td>\n",
       "    </tr>\n",
       "    <tr>\n",
       "      <th>23/12/2022</th>\n",
       "      <td>23187</td>\n",
       "      <td>1348</td>\n",
       "    </tr>\n",
       "    <tr>\n",
       "      <th>18/04/2023</th>\n",
       "      <td>27254</td>\n",
       "      <td>1869</td>\n",
       "    </tr>\n",
       "    <tr>\n",
       "      <th>15/02/2022</th>\n",
       "      <td>26138</td>\n",
       "      <td>1723</td>\n",
       "    </tr>\n",
       "  </tbody>\n",
       "</table>\n",
       "<p>376 rows × 2 columns</p>\n",
       "</div>"
      ],
      "text/plain": [
       "            CANTIDAD  LINEAS\n",
       "FECHAC                      \n",
       "23/02/2023     37931    3035\n",
       "24/02/2022     18527     910\n",
       "13/01/2022     17392    1260\n",
       "06/12/2022     35724    2646\n",
       "26/01/2022     18685    1323\n",
       "...              ...     ...\n",
       "30/10/2023     28219    2115\n",
       "29/08/2023     25700    1563\n",
       "23/12/2022     23187    1348\n",
       "18/04/2023     27254    1869\n",
       "15/02/2022     26138    1723\n",
       "\n",
       "[376 rows x 2 columns]"
      ]
     },
     "execution_count": 62,
     "metadata": {},
     "output_type": "execute_result"
    }
   ],
   "source": [
    "x_train"
   ]
  },
  {
   "cell_type": "markdown",
   "metadata": {},
   "source": [
    "## CON STATSMODEL"
   ]
  },
  {
   "cell_type": "code",
   "execution_count": 63,
   "metadata": {},
   "outputs": [
    {
     "data": {
      "text/html": [
       "<div>\n",
       "<style scoped>\n",
       "    .dataframe tbody tr th:only-of-type {\n",
       "        vertical-align: middle;\n",
       "    }\n",
       "\n",
       "    .dataframe tbody tr th {\n",
       "        vertical-align: top;\n",
       "    }\n",
       "\n",
       "    .dataframe thead th {\n",
       "        text-align: right;\n",
       "    }\n",
       "</style>\n",
       "<table border=\"1\" class=\"dataframe\">\n",
       "  <thead>\n",
       "    <tr style=\"text-align: right;\">\n",
       "      <th></th>\n",
       "      <th>const</th>\n",
       "      <th>CANTIDAD</th>\n",
       "      <th>LINEAS</th>\n",
       "    </tr>\n",
       "    <tr>\n",
       "      <th>FECHAC</th>\n",
       "      <th></th>\n",
       "      <th></th>\n",
       "      <th></th>\n",
       "    </tr>\n",
       "  </thead>\n",
       "  <tbody>\n",
       "    <tr>\n",
       "      <th>23/02/2023</th>\n",
       "      <td>1.0</td>\n",
       "      <td>37931</td>\n",
       "      <td>3035</td>\n",
       "    </tr>\n",
       "    <tr>\n",
       "      <th>24/02/2022</th>\n",
       "      <td>1.0</td>\n",
       "      <td>18527</td>\n",
       "      <td>910</td>\n",
       "    </tr>\n",
       "    <tr>\n",
       "      <th>13/01/2022</th>\n",
       "      <td>1.0</td>\n",
       "      <td>17392</td>\n",
       "      <td>1260</td>\n",
       "    </tr>\n",
       "    <tr>\n",
       "      <th>06/12/2022</th>\n",
       "      <td>1.0</td>\n",
       "      <td>35724</td>\n",
       "      <td>2646</td>\n",
       "    </tr>\n",
       "    <tr>\n",
       "      <th>26/01/2022</th>\n",
       "      <td>1.0</td>\n",
       "      <td>18685</td>\n",
       "      <td>1323</td>\n",
       "    </tr>\n",
       "    <tr>\n",
       "      <th>...</th>\n",
       "      <td>...</td>\n",
       "      <td>...</td>\n",
       "      <td>...</td>\n",
       "    </tr>\n",
       "    <tr>\n",
       "      <th>30/10/2023</th>\n",
       "      <td>1.0</td>\n",
       "      <td>28219</td>\n",
       "      <td>2115</td>\n",
       "    </tr>\n",
       "    <tr>\n",
       "      <th>29/08/2023</th>\n",
       "      <td>1.0</td>\n",
       "      <td>25700</td>\n",
       "      <td>1563</td>\n",
       "    </tr>\n",
       "    <tr>\n",
       "      <th>23/12/2022</th>\n",
       "      <td>1.0</td>\n",
       "      <td>23187</td>\n",
       "      <td>1348</td>\n",
       "    </tr>\n",
       "    <tr>\n",
       "      <th>18/04/2023</th>\n",
       "      <td>1.0</td>\n",
       "      <td>27254</td>\n",
       "      <td>1869</td>\n",
       "    </tr>\n",
       "    <tr>\n",
       "      <th>15/02/2022</th>\n",
       "      <td>1.0</td>\n",
       "      <td>26138</td>\n",
       "      <td>1723</td>\n",
       "    </tr>\n",
       "  </tbody>\n",
       "</table>\n",
       "<p>376 rows × 3 columns</p>\n",
       "</div>"
      ],
      "text/plain": [
       "            const  CANTIDAD  LINEAS\n",
       "FECHAC                             \n",
       "23/02/2023    1.0     37931    3035\n",
       "24/02/2022    1.0     18527     910\n",
       "13/01/2022    1.0     17392    1260\n",
       "06/12/2022    1.0     35724    2646\n",
       "26/01/2022    1.0     18685    1323\n",
       "...           ...       ...     ...\n",
       "30/10/2023    1.0     28219    2115\n",
       "29/08/2023    1.0     25700    1563\n",
       "23/12/2022    1.0     23187    1348\n",
       "18/04/2023    1.0     27254    1869\n",
       "15/02/2022    1.0     26138    1723\n",
       "\n",
       "[376 rows x 3 columns]"
      ]
     },
     "execution_count": 63,
     "metadata": {},
     "output_type": "execute_result"
    }
   ],
   "source": [
    "# agregamos un intercept con 1 a las variables independientes\n",
    "x_train = sm.add_constant(x_train)\n",
    "x_train"
   ]
  },
  {
   "cell_type": "code",
   "execution_count": 64,
   "metadata": {},
   "outputs": [
    {
     "data": {
      "text/plain": [
       "const       5.923622\n",
       "CANTIDAD    0.000002\n",
       "LINEAS      0.003934\n",
       "dtype: float64"
      ]
     },
     "execution_count": 64,
     "metadata": {},
     "output_type": "execute_result"
    }
   ],
   "source": [
    "# creamos el modelo y lo ajustamos utilizando OLS\n",
    "modelo = sm.OLS(y_train, x_train)\n",
    "resultado = modelo.fit()\n",
    "resultado.params"
   ]
  },
  {
   "cell_type": "code",
   "execution_count": 65,
   "metadata": {},
   "outputs": [
    {
     "name": "stdout",
     "output_type": "stream",
     "text": [
      "                            OLS Regression Results                            \n",
      "==============================================================================\n",
      "Dep. Variable:                  NOPER   R-squared:                       0.560\n",
      "Model:                            OLS   Adj. R-squared:                  0.558\n",
      "Method:                 Least Squares   F-statistic:                     237.3\n",
      "Date:                Tue, 26 Dec 2023   Prob (F-statistic):           3.30e-67\n",
      "Time:                        19:47:41   Log-Likelihood:                -888.32\n",
      "No. Observations:                 376   AIC:                             1783.\n",
      "Df Residuals:                     373   BIC:                             1794.\n",
      "Df Model:                           2                                         \n",
      "Covariance Type:            nonrobust                                         \n",
      "==============================================================================\n",
      "                 coef    std err          t      P>|t|      [0.025      0.975]\n",
      "------------------------------------------------------------------------------\n",
      "const          5.9236      0.302     19.629      0.000       5.330       6.517\n",
      "CANTIDAD    2.443e-06   1.47e-05      0.166      0.868   -2.64e-05    3.13e-05\n",
      "LINEAS         0.0039      0.000     13.951      0.000       0.003       0.004\n",
      "==============================================================================\n",
      "Omnibus:                        3.882   Durbin-Watson:                   1.898\n",
      "Prob(Omnibus):                  0.144   Jarque-Bera (JB):                3.880\n",
      "Skew:                          -0.158   Prob(JB):                        0.144\n",
      "Kurtosis:                       3.384   Cond. No.                     6.26e+04\n",
      "==============================================================================\n",
      "\n",
      "Notes:\n",
      "[1] Standard Errors assume that the covariance matrix of the errors is correctly specified.\n",
      "[2] The condition number is large, 6.26e+04. This might indicate that there are\n",
      "strong multicollinearity or other numerical problems.\n"
     ]
    }
   ],
   "source": [
    "print(resultado.summary())"
   ]
  },
  {
   "cell_type": "markdown",
   "metadata": {},
   "source": [
    "### El valor R-squared es de 56.3%, es decir que el modelo puede predecir el 57% de las veces con aproximación"
   ]
  },
  {
   "cell_type": "code",
   "execution_count": 66,
   "metadata": {},
   "outputs": [
    {
     "data": {
      "text/html": [
       "<div>\n",
       "<style scoped>\n",
       "    .dataframe tbody tr th:only-of-type {\n",
       "        vertical-align: middle;\n",
       "    }\n",
       "\n",
       "    .dataframe tbody tr th {\n",
       "        vertical-align: top;\n",
       "    }\n",
       "\n",
       "    .dataframe thead th {\n",
       "        text-align: right;\n",
       "    }\n",
       "</style>\n",
       "<table border=\"1\" class=\"dataframe\">\n",
       "  <thead>\n",
       "    <tr style=\"text-align: right;\">\n",
       "      <th></th>\n",
       "      <th>const</th>\n",
       "      <th>CANTIDAD</th>\n",
       "      <th>LINEAS</th>\n",
       "    </tr>\n",
       "    <tr>\n",
       "      <th>FECHAC</th>\n",
       "      <th></th>\n",
       "      <th></th>\n",
       "      <th></th>\n",
       "    </tr>\n",
       "  </thead>\n",
       "  <tbody>\n",
       "    <tr>\n",
       "      <th>13/10/2022</th>\n",
       "      <td>1.0</td>\n",
       "      <td>13578</td>\n",
       "      <td>990</td>\n",
       "    </tr>\n",
       "    <tr>\n",
       "      <th>11/02/2023</th>\n",
       "      <td>1.0</td>\n",
       "      <td>2504</td>\n",
       "      <td>44</td>\n",
       "    </tr>\n",
       "    <tr>\n",
       "      <th>02/09/2022</th>\n",
       "      <td>1.0</td>\n",
       "      <td>14072</td>\n",
       "      <td>732</td>\n",
       "    </tr>\n",
       "    <tr>\n",
       "      <th>15/09/2023</th>\n",
       "      <td>1.0</td>\n",
       "      <td>10572</td>\n",
       "      <td>859</td>\n",
       "    </tr>\n",
       "    <tr>\n",
       "      <th>25/05/2022</th>\n",
       "      <td>1.0</td>\n",
       "      <td>20698</td>\n",
       "      <td>1552</td>\n",
       "    </tr>\n",
       "    <tr>\n",
       "      <th>...</th>\n",
       "      <td>...</td>\n",
       "      <td>...</td>\n",
       "      <td>...</td>\n",
       "    </tr>\n",
       "    <tr>\n",
       "      <th>21/01/2022</th>\n",
       "      <td>1.0</td>\n",
       "      <td>36300</td>\n",
       "      <td>1473</td>\n",
       "    </tr>\n",
       "    <tr>\n",
       "      <th>09/07/2022</th>\n",
       "      <td>1.0</td>\n",
       "      <td>16841</td>\n",
       "      <td>351</td>\n",
       "    </tr>\n",
       "    <tr>\n",
       "      <th>08/10/2022</th>\n",
       "      <td>1.0</td>\n",
       "      <td>1660</td>\n",
       "      <td>41</td>\n",
       "    </tr>\n",
       "    <tr>\n",
       "      <th>31/10/2023</th>\n",
       "      <td>1.0</td>\n",
       "      <td>19835</td>\n",
       "      <td>1772</td>\n",
       "    </tr>\n",
       "    <tr>\n",
       "      <th>27/05/2022</th>\n",
       "      <td>1.0</td>\n",
       "      <td>13012</td>\n",
       "      <td>640</td>\n",
       "    </tr>\n",
       "  </tbody>\n",
       "</table>\n",
       "<p>162 rows × 3 columns</p>\n",
       "</div>"
      ],
      "text/plain": [
       "            const  CANTIDAD  LINEAS\n",
       "FECHAC                             \n",
       "13/10/2022    1.0     13578     990\n",
       "11/02/2023    1.0      2504      44\n",
       "02/09/2022    1.0     14072     732\n",
       "15/09/2023    1.0     10572     859\n",
       "25/05/2022    1.0     20698    1552\n",
       "...           ...       ...     ...\n",
       "21/01/2022    1.0     36300    1473\n",
       "09/07/2022    1.0     16841     351\n",
       "08/10/2022    1.0      1660      41\n",
       "31/10/2023    1.0     19835    1772\n",
       "27/05/2022    1.0     13012     640\n",
       "\n",
       "[162 rows x 3 columns]"
      ]
     },
     "execution_count": 66,
     "metadata": {},
     "output_type": "execute_result"
    }
   ],
   "source": [
    "# efectuaremos una prediccion sobre los valores test y compararemos con al realidad, hayq ue agregar la constante en x_test\n",
    "x_test = sm.add_constant(x_test)\n",
    "x_test"
   ]
  },
  {
   "cell_type": "code",
   "execution_count": 67,
   "metadata": {},
   "outputs": [
    {
     "data": {
      "text/plain": [
       "FECHAC\n",
       "13/10/2022     9.851656\n",
       "11/02/2023     6.102844\n",
       "02/09/2022     8.837838\n",
       "15/09/2023     9.328932\n",
       "25/05/2022    12.080074\n",
       "                ...    \n",
       "21/01/2022    11.807385\n",
       "09/07/2022     7.345669\n",
       "08/10/2022     6.088979\n",
       "31/10/2023    12.943492\n",
       "27/05/2022     8.473301\n",
       "Length: 162, dtype: float64"
      ]
     },
     "execution_count": 67,
     "metadata": {},
     "output_type": "execute_result"
    }
   ],
   "source": [
    "# efectuaremos una prediccion sobre los datos de test\n",
    "y_test_pred = resultado.predict(x_test)\n",
    "y_test_pred"
   ]
  },
  {
   "cell_type": "code",
   "execution_count": 68,
   "metadata": {},
   "outputs": [
    {
     "data": {
      "text/html": [
       "<div>\n",
       "<style scoped>\n",
       "    .dataframe tbody tr th:only-of-type {\n",
       "        vertical-align: middle;\n",
       "    }\n",
       "\n",
       "    .dataframe tbody tr th {\n",
       "        vertical-align: top;\n",
       "    }\n",
       "\n",
       "    .dataframe thead th {\n",
       "        text-align: right;\n",
       "    }\n",
       "</style>\n",
       "<table border=\"1\" class=\"dataframe\">\n",
       "  <thead>\n",
       "    <tr style=\"text-align: right;\">\n",
       "      <th></th>\n",
       "      <th>CANTIDAD</th>\n",
       "      <th>LINEAS</th>\n",
       "      <th>NOPER_REAL</th>\n",
       "      <th>NOPER_PRED</th>\n",
       "    </tr>\n",
       "    <tr>\n",
       "      <th>FECHAC</th>\n",
       "      <th></th>\n",
       "      <th></th>\n",
       "      <th></th>\n",
       "      <th></th>\n",
       "    </tr>\n",
       "  </thead>\n",
       "  <tbody>\n",
       "    <tr>\n",
       "      <th>13/10/2022</th>\n",
       "      <td>13578</td>\n",
       "      <td>990</td>\n",
       "      <td>12</td>\n",
       "      <td>10</td>\n",
       "    </tr>\n",
       "    <tr>\n",
       "      <th>11/02/2023</th>\n",
       "      <td>2504</td>\n",
       "      <td>44</td>\n",
       "      <td>4</td>\n",
       "      <td>6</td>\n",
       "    </tr>\n",
       "    <tr>\n",
       "      <th>02/09/2022</th>\n",
       "      <td>14072</td>\n",
       "      <td>732</td>\n",
       "      <td>8</td>\n",
       "      <td>9</td>\n",
       "    </tr>\n",
       "    <tr>\n",
       "      <th>15/09/2023</th>\n",
       "      <td>10572</td>\n",
       "      <td>859</td>\n",
       "      <td>9</td>\n",
       "      <td>9</td>\n",
       "    </tr>\n",
       "    <tr>\n",
       "      <th>25/05/2022</th>\n",
       "      <td>20698</td>\n",
       "      <td>1552</td>\n",
       "      <td>19</td>\n",
       "      <td>12</td>\n",
       "    </tr>\n",
       "    <tr>\n",
       "      <th>...</th>\n",
       "      <td>...</td>\n",
       "      <td>...</td>\n",
       "      <td>...</td>\n",
       "      <td>...</td>\n",
       "    </tr>\n",
       "    <tr>\n",
       "      <th>21/01/2022</th>\n",
       "      <td>36300</td>\n",
       "      <td>1473</td>\n",
       "      <td>11</td>\n",
       "      <td>12</td>\n",
       "    </tr>\n",
       "    <tr>\n",
       "      <th>09/07/2022</th>\n",
       "      <td>16841</td>\n",
       "      <td>351</td>\n",
       "      <td>7</td>\n",
       "      <td>7</td>\n",
       "    </tr>\n",
       "    <tr>\n",
       "      <th>08/10/2022</th>\n",
       "      <td>1660</td>\n",
       "      <td>41</td>\n",
       "      <td>4</td>\n",
       "      <td>6</td>\n",
       "    </tr>\n",
       "    <tr>\n",
       "      <th>31/10/2023</th>\n",
       "      <td>19835</td>\n",
       "      <td>1772</td>\n",
       "      <td>14</td>\n",
       "      <td>13</td>\n",
       "    </tr>\n",
       "    <tr>\n",
       "      <th>27/05/2022</th>\n",
       "      <td>13012</td>\n",
       "      <td>640</td>\n",
       "      <td>15</td>\n",
       "      <td>8</td>\n",
       "    </tr>\n",
       "  </tbody>\n",
       "</table>\n",
       "<p>162 rows × 4 columns</p>\n",
       "</div>"
      ],
      "text/plain": [
       "            CANTIDAD  LINEAS  NOPER_REAL  NOPER_PRED\n",
       "FECHAC                                              \n",
       "13/10/2022     13578     990          12          10\n",
       "11/02/2023      2504      44           4           6\n",
       "02/09/2022     14072     732           8           9\n",
       "15/09/2023     10572     859           9           9\n",
       "25/05/2022     20698    1552          19          12\n",
       "...              ...     ...         ...         ...\n",
       "21/01/2022     36300    1473          11          12\n",
       "09/07/2022     16841     351           7           7\n",
       "08/10/2022      1660      41           4           6\n",
       "31/10/2023     19835    1772          14          13\n",
       "27/05/2022     13012     640          15           8\n",
       "\n",
       "[162 rows x 4 columns]"
      ]
     },
     "execution_count": 68,
     "metadata": {},
     "output_type": "execute_result"
    }
   ],
   "source": [
    "# unimos el test con la predicción\n",
    "comparacion = x_test.merge(y_test, left_index=True, right_index=True)\n",
    "comparacion = comparacion.merge(pd.DataFrame(y_test_pred), left_index=True, right_index=True)\n",
    "comparacion = comparacion.drop(columns=['const'])\n",
    "comparacion.columns = ['CANTIDAD','LINEAS','NOPER_REAL','NOPER_PRED']\n",
    "comparacion['NOPER_PRED'] = round(comparacion['NOPER_PRED'],0)\n",
    "comparacion['NOPER_PRED'] = comparacion['NOPER_PRED'].astype('int')\n",
    "comparacion"
   ]
  },
  {
   "cell_type": "code",
   "execution_count": 69,
   "metadata": {},
   "outputs": [
    {
     "data": {
      "text/plain": [
       "array([13.7456538])"
      ]
     },
     "execution_count": 69,
     "metadata": {},
     "output_type": "execute_result"
    }
   ],
   "source": [
    "resultado.predict([[1,30938,1969]])"
   ]
  },
  {
   "cell_type": "markdown",
   "metadata": {},
   "source": [
    "# Observamos que en efecto el modelo si bien se acerca no predice muy bien\n",
    "# --> entonces se deben efectuar ajustes al modelo, quizas tratamiento de outliers"
   ]
  },
  {
   "cell_type": "code",
   "execution_count": 70,
   "metadata": {},
   "outputs": [
    {
     "name": "stdout",
     "output_type": "stream",
     "text": [
      "El error (rmse) de test es: 2.410457520400003\n"
     ]
    }
   ],
   "source": [
    "# encontramos que el error estiamdo por el métodod \n",
    "from sklearn.metrics import mean_squared_error\n",
    "rmse_rm = mean_squared_error(y_true  = y_test, y_pred  = y_test_pred, squared = False)\n",
    "print(f\"El error (rmse) de test es: {rmse_rm}\")"
   ]
  },
  {
   "cell_type": "markdown",
   "metadata": {},
   "source": [
    "## El error de 2.57 significa que la predicción se aleja en promedio en 2.57 del valor real"
   ]
  },
  {
   "cell_type": "markdown",
   "metadata": {},
   "source": [
    "# CORRECION AL MODELO"
   ]
  },
  {
   "cell_type": "code",
   "execution_count": 76,
   "metadata": {},
   "outputs": [
    {
     "data": {
      "text/html": [
       "<div>\n",
       "<style scoped>\n",
       "    .dataframe tbody tr th:only-of-type {\n",
       "        vertical-align: middle;\n",
       "    }\n",
       "\n",
       "    .dataframe tbody tr th {\n",
       "        vertical-align: top;\n",
       "    }\n",
       "\n",
       "    .dataframe thead th {\n",
       "        text-align: right;\n",
       "    }\n",
       "</style>\n",
       "<table border=\"1\" class=\"dataframe\">\n",
       "  <thead>\n",
       "    <tr style=\"text-align: right;\">\n",
       "      <th></th>\n",
       "      <th>CANTIDAD</th>\n",
       "      <th>LINEAS</th>\n",
       "      <th>NOPER</th>\n",
       "    </tr>\n",
       "  </thead>\n",
       "  <tbody>\n",
       "    <tr>\n",
       "      <th>count</th>\n",
       "      <td>538.000000</td>\n",
       "      <td>538.000000</td>\n",
       "      <td>538.000000</td>\n",
       "    </tr>\n",
       "    <tr>\n",
       "      <th>mean</th>\n",
       "      <td>23343.416357</td>\n",
       "      <td>1460.202602</td>\n",
       "      <td>11.765799</td>\n",
       "    </tr>\n",
       "    <tr>\n",
       "      <th>std</th>\n",
       "      <td>13396.219207</td>\n",
       "      <td>706.435874</td>\n",
       "      <td>3.782861</td>\n",
       "    </tr>\n",
       "    <tr>\n",
       "      <th>min</th>\n",
       "      <td>2.000000</td>\n",
       "      <td>1.000000</td>\n",
       "      <td>1.000000</td>\n",
       "    </tr>\n",
       "    <tr>\n",
       "      <th>25%</th>\n",
       "      <td>14988.750000</td>\n",
       "      <td>978.750000</td>\n",
       "      <td>10.000000</td>\n",
       "    </tr>\n",
       "    <tr>\n",
       "      <th>50%</th>\n",
       "      <td>21475.000000</td>\n",
       "      <td>1476.500000</td>\n",
       "      <td>12.000000</td>\n",
       "    </tr>\n",
       "    <tr>\n",
       "      <th>75%</th>\n",
       "      <td>29363.500000</td>\n",
       "      <td>1920.500000</td>\n",
       "      <td>14.000000</td>\n",
       "    </tr>\n",
       "    <tr>\n",
       "      <th>max</th>\n",
       "      <td>105588.000000</td>\n",
       "      <td>4533.000000</td>\n",
       "      <td>20.000000</td>\n",
       "    </tr>\n",
       "  </tbody>\n",
       "</table>\n",
       "</div>"
      ],
      "text/plain": [
       "            CANTIDAD       LINEAS       NOPER\n",
       "count     538.000000   538.000000  538.000000\n",
       "mean    23343.416357  1460.202602   11.765799\n",
       "std     13396.219207   706.435874    3.782861\n",
       "min         2.000000     1.000000    1.000000\n",
       "25%     14988.750000   978.750000   10.000000\n",
       "50%     21475.000000  1476.500000   12.000000\n",
       "75%     29363.500000  1920.500000   14.000000\n",
       "max    105588.000000  4533.000000   20.000000"
      ]
     },
     "execution_count": 76,
     "metadata": {},
     "output_type": "execute_result"
    }
   ],
   "source": [
    "logdf_aggr.describe()"
   ]
  },
  {
   "cell_type": "code",
   "execution_count": 73,
   "metadata": {},
   "outputs": [
    {
     "data": {
      "text/plain": [
       "<Axes: ylabel='LINEAS'>"
      ]
     },
     "execution_count": 73,
     "metadata": {},
     "output_type": "execute_result"
    },
    {
     "data": {
      "image/png": "[encoded data removed]",
      "text/plain": [
       "<Figure size 400x400 with 1 Axes>"
      ]
     },
     "metadata": {},
     "output_type": "display_data"
    }
   ],
   "source": [
    "# Efectuaremos la limpieza de outliers para ver si incide en en los resultados\n",
    "# efectuando los diagramas de caja de nuestra dos variables independientes\n",
    "import seaborn as sns\n",
    "\n",
    "fig, ax = subplots(figsize=(4,4))\n",
    "\n",
    "sns.boxplot(logdf_aggr['LINEAS'])"
   ]
  },
  {
   "cell_type": "code",
   "execution_count": 75,
   "metadata": {},
   "outputs": [
    {
     "data": {
      "text/plain": [
       "<Axes: ylabel='CANTIDAD'>"
      ]
     },
     "execution_count": 75,
     "metadata": {},
     "output_type": "execute_result"
    },
    {
     "data": {
      "image/png": "[encoded data removed]",
      "text/plain": [
       "<Figure size 400x400 with 1 Axes>"
      ]
     },
     "metadata": {},
     "output_type": "display_data"
    }
   ],
   "source": [
    "fig, ax = subplots(figsize=(4,4))\n",
    "sns.boxplot(logdf_aggr['CANTIDAD'])"
   ]
  },
  {
   "cell_type": "code",
   "execution_count": 77,
   "metadata": {},
   "outputs": [
    {
     "data": {
      "text/plain": [
       "(538, 3)"
      ]
     },
     "execution_count": 77,
     "metadata": {},
     "output_type": "execute_result"
    }
   ],
   "source": [
    "logdf_aggr.shape   # -->  existen 538 registros antes de la limpieza de outliers"
   ]
  },
  {
   "cell_type": "code",
   "execution_count": 86,
   "metadata": {},
   "outputs": [
    {
     "data": {
      "text/plain": [
       "(532, 3)"
      ]
     },
     "execution_count": 86,
     "metadata": {},
     "output_type": "execute_result"
    }
   ],
   "source": [
    "# Efectuamos una reducción de outliers utilizando el método de puntuacoióm Z-score\n",
    "import numpy as np\n",
    "import scipy.stats as stats\n",
    "\n",
    "# Encontramos el valor z-score de cada observación\n",
    "z = np.abs(stats.zscore(logdf_aggr))\n",
    "# Solo mantenemos las filas con puntuación z menor que el valor absoluto de 3 \n",
    "logdf_clean = logdf_aggr[(z<3).all(axis=1)]\n",
    "# Calculamos cuantas filas quedan\n",
    "logdf_clean.shape\n"
   ]
  },
  {
   "cell_type": "markdown",
   "metadata": {},
   "source": [
    "### se eliminaron 6 registros de valore atípicos tras la limpieza"
   ]
  },
  {
   "cell_type": "code",
   "execution_count": 87,
   "metadata": {},
   "outputs": [
    {
     "data": {
      "text/plain": [
       "<Axes: ylabel='LINEAS'>"
      ]
     },
     "execution_count": 87,
     "metadata": {},
     "output_type": "execute_result"
    },
    {
     "data": {
      "image/png": "[encoded data removed]",
      "text/plain": [
       "<Figure size 400x400 with 1 Axes>"
      ]
     },
     "metadata": {},
     "output_type": "display_data"
    }
   ],
   "source": [
    "# vemos cómo quedan nuestros boxplots tras la reducción\n",
    "\n",
    "fig, ax = subplots(figsize=(4,4))\n",
    "\n",
    "sns.boxplot(logdf_clean['LINEAS'])"
   ]
  },
  {
   "cell_type": "code",
   "execution_count": 88,
   "metadata": {},
   "outputs": [
    {
     "data": {
      "text/plain": [
       "<Axes: ylabel='CANTIDAD'>"
      ]
     },
     "execution_count": 88,
     "metadata": {},
     "output_type": "execute_result"
    },
    {
     "data": {
      "image/png": "[encoded data removed]",
      "text/plain": [
       "<Figure size 400x400 with 1 Axes>"
      ]
     },
     "metadata": {},
     "output_type": "display_data"
    }
   ],
   "source": [
    "fig, ax = subplots(figsize=(4,4))\n",
    "sns.boxplot(logdf_clean['CANTIDAD'])"
   ]
  },
  {
   "cell_type": "markdown",
   "metadata": {},
   "source": [
    "## REGRESION NUEVA"
   ]
  },
  {
   "cell_type": "code",
   "execution_count": 89,
   "metadata": {},
   "outputs": [],
   "source": [
    "# dividimos nuestras variables dependientes e independientes en el df limpio\n",
    "Y = logdf_clean['NOPER']\n",
    "X = logdf_clean[['CANTIDAD','LINEAS']]"
   ]
  },
  {
   "cell_type": "code",
   "execution_count": 90,
   "metadata": {},
   "outputs": [],
   "source": [
    "# efectuamos el split con 70% de entrenamiento\n",
    "x_train, x_test, y_train, y_test = train_test_split(X, Y, train_size=0.7)"
   ]
  },
  {
   "cell_type": "code",
   "execution_count": 91,
   "metadata": {},
   "outputs": [
    {
     "data": {
      "text/html": [
       "<div>\n",
       "<style scoped>\n",
       "    .dataframe tbody tr th:only-of-type {\n",
       "        vertical-align: middle;\n",
       "    }\n",
       "\n",
       "    .dataframe tbody tr th {\n",
       "        vertical-align: top;\n",
       "    }\n",
       "\n",
       "    .dataframe thead th {\n",
       "        text-align: right;\n",
       "    }\n",
       "</style>\n",
       "<table border=\"1\" class=\"dataframe\">\n",
       "  <thead>\n",
       "    <tr style=\"text-align: right;\">\n",
       "      <th></th>\n",
       "      <th>const</th>\n",
       "      <th>CANTIDAD</th>\n",
       "      <th>LINEAS</th>\n",
       "    </tr>\n",
       "    <tr>\n",
       "      <th>FECHAC</th>\n",
       "      <th></th>\n",
       "      <th></th>\n",
       "      <th></th>\n",
       "    </tr>\n",
       "  </thead>\n",
       "  <tbody>\n",
       "    <tr>\n",
       "      <th>30/05/2022</th>\n",
       "      <td>1.0</td>\n",
       "      <td>34062</td>\n",
       "      <td>2039</td>\n",
       "    </tr>\n",
       "    <tr>\n",
       "      <th>17/09/2022</th>\n",
       "      <td>1.0</td>\n",
       "      <td>20</td>\n",
       "      <td>3</td>\n",
       "    </tr>\n",
       "    <tr>\n",
       "      <th>19/05/2023</th>\n",
       "      <td>1.0</td>\n",
       "      <td>11518</td>\n",
       "      <td>762</td>\n",
       "    </tr>\n",
       "    <tr>\n",
       "      <th>15/07/2023</th>\n",
       "      <td>1.0</td>\n",
       "      <td>3187</td>\n",
       "      <td>136</td>\n",
       "    </tr>\n",
       "    <tr>\n",
       "      <th>23/05/2022</th>\n",
       "      <td>1.0</td>\n",
       "      <td>15116</td>\n",
       "      <td>1350</td>\n",
       "    </tr>\n",
       "    <tr>\n",
       "      <th>...</th>\n",
       "      <td>...</td>\n",
       "      <td>...</td>\n",
       "      <td>...</td>\n",
       "    </tr>\n",
       "    <tr>\n",
       "      <th>06/07/2023</th>\n",
       "      <td>1.0</td>\n",
       "      <td>10408</td>\n",
       "      <td>1028</td>\n",
       "    </tr>\n",
       "    <tr>\n",
       "      <th>02/04/2022</th>\n",
       "      <td>1.0</td>\n",
       "      <td>5130</td>\n",
       "      <td>82</td>\n",
       "    </tr>\n",
       "    <tr>\n",
       "      <th>19/12/2022</th>\n",
       "      <td>1.0</td>\n",
       "      <td>41055</td>\n",
       "      <td>1854</td>\n",
       "    </tr>\n",
       "    <tr>\n",
       "      <th>25/04/2023</th>\n",
       "      <td>1.0</td>\n",
       "      <td>24391</td>\n",
       "      <td>2075</td>\n",
       "    </tr>\n",
       "    <tr>\n",
       "      <th>19/05/2022</th>\n",
       "      <td>1.0</td>\n",
       "      <td>28337</td>\n",
       "      <td>1620</td>\n",
       "    </tr>\n",
       "  </tbody>\n",
       "</table>\n",
       "<p>372 rows × 3 columns</p>\n",
       "</div>"
      ],
      "text/plain": [
       "            const  CANTIDAD  LINEAS\n",
       "FECHAC                             \n",
       "30/05/2022    1.0     34062    2039\n",
       "17/09/2022    1.0        20       3\n",
       "19/05/2023    1.0     11518     762\n",
       "15/07/2023    1.0      3187     136\n",
       "23/05/2022    1.0     15116    1350\n",
       "...           ...       ...     ...\n",
       "06/07/2023    1.0     10408    1028\n",
       "02/04/2022    1.0      5130      82\n",
       "19/12/2022    1.0     41055    1854\n",
       "25/04/2023    1.0     24391    2075\n",
       "19/05/2022    1.0     28337    1620\n",
       "\n",
       "[372 rows x 3 columns]"
      ]
     },
     "execution_count": 91,
     "metadata": {},
     "output_type": "execute_result"
    }
   ],
   "source": [
    "# agregamos un intercept con 1 a las variables independientes\n",
    "x_train = sm.add_constant(x_train)\n",
    "x_train"
   ]
  },
  {
   "cell_type": "code",
   "execution_count": 92,
   "metadata": {},
   "outputs": [
    {
     "data": {
      "text/plain": [
       "const       5.527163\n",
       "CANTIDAD    0.000009\n",
       "LINEAS      0.004152\n",
       "dtype: float64"
      ]
     },
     "execution_count": 92,
     "metadata": {},
     "output_type": "execute_result"
    }
   ],
   "source": [
    "# creamos el modelo y lo ajustamos utilizando OLS\n",
    "modelo = sm.OLS(y_train, x_train)\n",
    "resultado = modelo.fit()\n",
    "resultado.params"
   ]
  },
  {
   "cell_type": "code",
   "execution_count": 93,
   "metadata": {},
   "outputs": [
    {
     "name": "stdout",
     "output_type": "stream",
     "text": [
      "                            OLS Regression Results                            \n",
      "==============================================================================\n",
      "Dep. Variable:                  NOPER   R-squared:                       0.581\n",
      "Model:                            OLS   Adj. R-squared:                  0.579\n",
      "Method:                 Least Squares   F-statistic:                     255.8\n",
      "Date:                Tue, 26 Dec 2023   Prob (F-statistic):           1.98e-70\n",
      "Time:                        20:32:03   Log-Likelihood:                -869.52\n",
      "No. Observations:                 372   AIC:                             1745.\n",
      "Df Residuals:                     369   BIC:                             1757.\n",
      "Df Model:                           2                                         \n",
      "Covariance Type:            nonrobust                                         \n",
      "==============================================================================\n",
      "                 coef    std err          t      P>|t|      [0.025      0.975]\n",
      "------------------------------------------------------------------------------\n",
      "const          5.5272      0.305     18.135      0.000       4.928       6.126\n",
      "CANTIDAD    8.521e-06   1.68e-05      0.508      0.612   -2.45e-05    4.15e-05\n",
      "LINEAS         0.0042      0.000     14.391      0.000       0.004       0.005\n",
      "==============================================================================\n",
      "Omnibus:                        0.754   Durbin-Watson:                   2.112\n",
      "Prob(Omnibus):                  0.686   Jarque-Bera (JB):                0.533\n",
      "Skew:                           0.051   Prob(JB):                        0.766\n",
      "Kurtosis:                       3.156   Cond. No.                     5.88e+04\n",
      "==============================================================================\n",
      "\n",
      "Notes:\n",
      "[1] Standard Errors assume that the covariance matrix of the errors is correctly specified.\n",
      "[2] The condition number is large, 5.88e+04. This might indicate that there are\n",
      "strong multicollinearity or other numerical problems.\n"
     ]
    }
   ],
   "source": [
    "print(resultado.summary())"
   ]
  },
  {
   "cell_type": "markdown",
   "metadata": {},
   "source": [
    "## OBSERVAMOS QUE MEJORAMOS UN POCO nuestro valor de R-squared a 58.1%"
   ]
  },
  {
   "cell_type": "code",
   "execution_count": 94,
   "metadata": {},
   "outputs": [
    {
     "data": {
      "text/html": [
       "<div>\n",
       "<style scoped>\n",
       "    .dataframe tbody tr th:only-of-type {\n",
       "        vertical-align: middle;\n",
       "    }\n",
       "\n",
       "    .dataframe tbody tr th {\n",
       "        vertical-align: top;\n",
       "    }\n",
       "\n",
       "    .dataframe thead th {\n",
       "        text-align: right;\n",
       "    }\n",
       "</style>\n",
       "<table border=\"1\" class=\"dataframe\">\n",
       "  <thead>\n",
       "    <tr style=\"text-align: right;\">\n",
       "      <th></th>\n",
       "      <th>const</th>\n",
       "      <th>CANTIDAD</th>\n",
       "      <th>LINEAS</th>\n",
       "    </tr>\n",
       "    <tr>\n",
       "      <th>FECHAC</th>\n",
       "      <th></th>\n",
       "      <th></th>\n",
       "      <th></th>\n",
       "    </tr>\n",
       "  </thead>\n",
       "  <tbody>\n",
       "    <tr>\n",
       "      <th>04/01/2022</th>\n",
       "      <td>1.0</td>\n",
       "      <td>33897</td>\n",
       "      <td>1819</td>\n",
       "    </tr>\n",
       "    <tr>\n",
       "      <th>07/05/2022</th>\n",
       "      <td>1.0</td>\n",
       "      <td>10412</td>\n",
       "      <td>412</td>\n",
       "    </tr>\n",
       "    <tr>\n",
       "      <th>15/11/2023</th>\n",
       "      <td>1.0</td>\n",
       "      <td>17222</td>\n",
       "      <td>1733</td>\n",
       "    </tr>\n",
       "    <tr>\n",
       "      <th>02/02/2023</th>\n",
       "      <td>1.0</td>\n",
       "      <td>21684</td>\n",
       "      <td>1544</td>\n",
       "    </tr>\n",
       "    <tr>\n",
       "      <th>13/09/2022</th>\n",
       "      <td>1.0</td>\n",
       "      <td>35213</td>\n",
       "      <td>2203</td>\n",
       "    </tr>\n",
       "    <tr>\n",
       "      <th>...</th>\n",
       "      <td>...</td>\n",
       "      <td>...</td>\n",
       "      <td>...</td>\n",
       "    </tr>\n",
       "    <tr>\n",
       "      <th>09/05/2023</th>\n",
       "      <td>1.0</td>\n",
       "      <td>27588</td>\n",
       "      <td>2001</td>\n",
       "    </tr>\n",
       "    <tr>\n",
       "      <th>18/05/2023</th>\n",
       "      <td>1.0</td>\n",
       "      <td>20770</td>\n",
       "      <td>1525</td>\n",
       "    </tr>\n",
       "    <tr>\n",
       "      <th>08/12/2023</th>\n",
       "      <td>1.0</td>\n",
       "      <td>19630</td>\n",
       "      <td>873</td>\n",
       "    </tr>\n",
       "    <tr>\n",
       "      <th>27/11/2023</th>\n",
       "      <td>1.0</td>\n",
       "      <td>24145</td>\n",
       "      <td>2258</td>\n",
       "    </tr>\n",
       "    <tr>\n",
       "      <th>13/10/2022</th>\n",
       "      <td>1.0</td>\n",
       "      <td>13578</td>\n",
       "      <td>990</td>\n",
       "    </tr>\n",
       "  </tbody>\n",
       "</table>\n",
       "<p>160 rows × 3 columns</p>\n",
       "</div>"
      ],
      "text/plain": [
       "            const  CANTIDAD  LINEAS\n",
       "FECHAC                             \n",
       "04/01/2022    1.0     33897    1819\n",
       "07/05/2022    1.0     10412     412\n",
       "15/11/2023    1.0     17222    1733\n",
       "02/02/2023    1.0     21684    1544\n",
       "13/09/2022    1.0     35213    2203\n",
       "...           ...       ...     ...\n",
       "09/05/2023    1.0     27588    2001\n",
       "18/05/2023    1.0     20770    1525\n",
       "08/12/2023    1.0     19630     873\n",
       "27/11/2023    1.0     24145    2258\n",
       "13/10/2022    1.0     13578     990\n",
       "\n",
       "[160 rows x 3 columns]"
      ]
     },
     "execution_count": 94,
     "metadata": {},
     "output_type": "execute_result"
    }
   ],
   "source": [
    "# efectuaremos una prediccion sobre los valores test y compararemos con al realidad, hayq ue agregar la constante en x_test\n",
    "x_test = sm.add_constant(x_test)\n",
    "x_test"
   ]
  },
  {
   "cell_type": "code",
   "execution_count": 95,
   "metadata": {},
   "outputs": [
    {
     "data": {
      "text/plain": [
       "FECHAC\n",
       "04/01/2022    13.368574\n",
       "07/05/2022     7.326527\n",
       "15/11/2023    12.869410\n",
       "02/02/2023    12.122693\n",
       "13/09/2022    14.974173\n",
       "                ...    \n",
       "09/05/2023    14.070487\n",
       "18/05/2023    12.036016\n",
       "08/12/2023     9.319168\n",
       "27/11/2023    15.108225\n",
       "13/10/2022     9.753388\n",
       "Length: 160, dtype: float64"
      ]
     },
     "execution_count": 95,
     "metadata": {},
     "output_type": "execute_result"
    }
   ],
   "source": [
    "# efectuaremos una prediccion sobre los datos de test\n",
    "y_test_pred = resultado.predict(x_test)\n",
    "y_test_pred"
   ]
  },
  {
   "cell_type": "code",
   "execution_count": 96,
   "metadata": {},
   "outputs": [
    {
     "name": "stdout",
     "output_type": "stream",
     "text": [
      "El error (rmse) de test es: 2.4643964391718294\n"
     ]
    }
   ],
   "source": [
    "# encontramos que el error estiamdo por el métodod \n",
    "from sklearn.metrics import mean_squared_error\n",
    "rmse_rm = mean_squared_error(y_true  = y_test, y_pred  = y_test_pred, squared = False)\n",
    "print(f\"El error (rmse) de test es: {rmse_rm}\")"
   ]
  },
  {
   "cell_type": "markdown",
   "metadata": {},
   "source": [
    "## nuestro valor de predicciones ahora es de 2.46, mejorando un poco"
   ]
  },
  {
   "cell_type": "markdown",
   "metadata": {},
   "source": [
    "# CONCLUSIONES\n",
    "* Nuestro modelo mejorado tiene un nivel de exactitud de 58.1%, es decir, en ese porcentaje nuestro modelo de regresión predice la realidad\n",
    "* Asimismo nuestras predicciones se alejan un 2.46 de los valores reales en promedio\n",
    "* Si bien nuestro modelo puede predecir con mediana exactitud nos sirve para contratar nuevo personal de acuerdo a las líneas y cantidades solicitadas por día\n",
    "* Es necesario efectuar nuevos análisis y quizñas aplicar otros métodos para mejorar los resultados"
   ]
  }
 ],
 "metadata": {
  "kernelspec": {
   "display_name": "Python 3",
   "language": "python",
   "name": "python3"
  },
  "language_info": {
   "codemirror_mode": {
    "name": "ipython",
    "version": 3
   },
   "file_extension": ".py",
   "mimetype": "text/x-python",
   "name": "python",
   "nbconvert_exporter": "python",
   "pygments_lexer": "ipython3",
   "version": "3.11.7"
  }
 },
 "nbformat": 4,
 "nbformat_minor": 2
}
